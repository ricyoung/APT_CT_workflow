{
 "cells": [
  {
   "cell_type": "markdown",
   "metadata": {},
   "source": [
    "Basic Data Cleaning"
   ]
  },
  {
   "cell_type": "markdown",
   "metadata": {},
   "source": [
    "from the looks of it - only study results have demographic information. So we will only be looking at those.\n",
    "\n",
    "example of a study result\n",
    "https://clinicaltrials.gov/ct2/show/results/NCT03698591?cond=TMS&draw=3&rank=7\n",
    "\n",
    "example of no study results\n",
    "https://clinicaltrials.gov/ct2/show/results/NCT04982757?cond=TMS&draw=3&rank=8"
   ]
  },
  {
   "cell_type": "code",
   "execution_count": 7,
   "metadata": {},
   "outputs": [],
   "source": [
    "disease = 'rTMS'"
   ]
  },
  {
   "cell_type": "code",
   "execution_count": 8,
   "metadata": {},
   "outputs": [],
   "source": [
    "from os import system\n",
    "import pandas as pd\n",
    "import requests\n",
    "import datetime as dt\n",
    "# from pytrials.client import ClinicalTrials\n",
    "import json\n",
    "import ipywidgets as widgets\n",
    "import numpy as np\n",
    "np.random.seed(10031975)\n",
    "import matplotlib.pyplot as plt\n",
    "import numpy as np\n",
    "from matplotlib import rcParams, cycler\n",
    "import matplotlib.pyplot as plt\n",
    "from matplotlib.ticker import AutoMinorLocator\n",
    "# from openpyxl import Workbook\n",
    "import openpyxl"
   ]
  },
  {
   "cell_type": "code",
   "execution_count": 9,
   "metadata": {},
   "outputs": [],
   "source": [
    "# cleaning = pd.read_excel('data/{}_cleaning.xlsx'.format(disease))\n",
    "check = pd.read_csv('2-'+disease+'_cleaned_use_me.csv')"
   ]
  },
  {
   "cell_type": "code",
   "execution_count": 10,
   "metadata": {},
   "outputs": [],
   "source": [
    "# cleaned.to_csv(disease+'_cleaned_use_me.csv', index = False)"
   ]
  },
  {
   "cell_type": "code",
   "execution_count": 11,
   "metadata": {},
   "outputs": [
    {
     "data": {
      "text/plain": [
       "(559, 37)"
      ]
     },
     "execution_count": 11,
     "metadata": {},
     "output_type": "execute_result"
    }
   ],
   "source": [
    "# cleaning.head()\n",
    "check.shape"
   ]
  },
  {
   "cell_type": "code",
   "execution_count": 12,
   "metadata": {},
   "outputs": [],
   "source": [
    "#does some error handling\n",
    "\n",
    "\n",
    "import sys\n",
    "import csv\n",
    "maxInt = sys.maxsize\n",
    "\n",
    "while True:\n",
    "    # decrease the maxInt value by factor 10 \n",
    "    # as long as the OverflowError occurs.\n",
    "\n",
    "    try:\n",
    "        csv.field_size_limit(maxInt)\n",
    "        break\n",
    "    except OverflowError:\n",
    "        maxInt = int(maxInt/10)"
   ]
  },
  {
   "cell_type": "markdown",
   "metadata": {},
   "source": [
    "(2339, 35)"
   ]
  },
  {
   "cell_type": "code",
   "execution_count": 13,
   "metadata": {},
   "outputs": [],
   "source": [
    "from pytrials.utils import json_handler, csv_handler\n",
    "\n",
    "\n",
    "class ClinicalTrials:\n",
    "    \"\"\"ClinicalTrials API client\n",
    "\n",
    "    Provides functions to easily access the ClinicalTrials.gov API\n",
    "    (https://clinicaltrials.gov/api/)\n",
    "    in Python.\n",
    "\n",
    "    Attributes:\n",
    "        study_fields: List of all study fields you can use in your query.\n",
    "        api_info: Tuple containing the API version number and the last\n",
    "        time the database was updated.\n",
    "    \"\"\"\n",
    "\n",
    "    _BASE_URL = \"https://clinicaltrials.gov/api/\"\n",
    "    _INFO = \"info/\"\n",
    "    _QUERY = \"query/\"\n",
    "    _JSON = \"fmt=json\"\n",
    "    _CSV = \"fmt=csv\"\n",
    "\n",
    "    def __init__(self):\n",
    "        self.api_info = self.__api_info()\n",
    "\n",
    "    @property\n",
    "    def study_fields(self):\n",
    "        fields_list = json_handler(\n",
    "            f\"{self._BASE_URL}{self._INFO}study_fields_list?{self._JSON}\"\n",
    "        )\n",
    "        return fields_list[\"StudyFields\"][\"Fields\"]\n",
    "\n",
    "    def __api_info(self):\n",
    "        \"\"\"Returns information about the API\"\"\"\n",
    "        last_updated = json_handler(\n",
    "            f\"{self._BASE_URL}{self._INFO}data_vrs?{self._JSON}\"\n",
    "        )[\"DataVrs\"]\n",
    "        api_version = json_handler(f\"{self._BASE_URL}{self._INFO}api_vrs?{self._JSON}\")[\n",
    "            \"APIVrs\"\n",
    "        ]\n",
    "\n",
    "        return api_version, last_updated\n",
    "\n",
    "    def get_full_studies(self, search_expr, min_rnk=1, max_studies=100):\n",
    "        \"\"\"Returns all content for a maximum of 100 study records.\n",
    "\n",
    "        Retrieves information from the full studies endpoint, which gets all study fields.\n",
    "        This endpoint can only output JSON (Or not-supported XML) format and does not allow\n",
    "        requests for more than 100 studies at once.\n",
    "\n",
    "        Args:\n",
    "            search_expr (str): A string containing a search expression as specified by\n",
    "                `their documentation <https://clinicaltrials.gov/api/gui/ref/syntax#searchExpr>`_.\n",
    "            max_studies (int): An integer indicating the maximum number of studies to return.\n",
    "                Defaults to 50.\n",
    "\n",
    "        Returns:\n",
    "            dict: Object containing the information queried with the search expression.\n",
    "\n",
    "        Raises:\n",
    "            ValueError: The number of studies can only be between 1 and 100\n",
    "        \"\"\"\n",
    "        if max_studies > 100 or max_studies < 1:\n",
    "            raise ValueError(\"The number of studies can only be between 1 and 100\")\n",
    "\n",
    "        req = f\"full_studies?expr={search_expr}&min_rnk={min_rnk}&max_rnk={max_studies+min_rnk-1}&{self._JSON}\"\n",
    "\n",
    "        full_studies = json_handler(f\"{self._BASE_URL}{self._QUERY}{req}\")\n",
    "\n",
    "        return full_studies\n",
    "\n",
    "    def __repr__(self):\n",
    "        return f\"ClinicalTrials.gov client v{self.api_info[0]}, database last updated {self.api_info[1]}\""
   ]
  },
  {
   "cell_type": "code",
   "execution_count": 14,
   "metadata": {},
   "outputs": [],
   "source": [
    "# check.head()"
   ]
  },
  {
   "cell_type": "code",
   "execution_count": 15,
   "metadata": {},
   "outputs": [],
   "source": [
    "# import json"
   ]
  },
  {
   "cell_type": "code",
   "execution_count": 16,
   "metadata": {},
   "outputs": [],
   "source": [
    "# print(json_string)"
   ]
  },
  {
   "cell_type": "code",
   "execution_count": 17,
   "metadata": {},
   "outputs": [],
   "source": [
    "def find_values(id, json_repr):\n",
    "    results = []\n",
    "\n",
    "    def _decode_dict(a_dict):\n",
    "        try:\n",
    "            results.append(a_dict[id])\n",
    "        except KeyError:\n",
    "            pass\n",
    "        return a_dict\n",
    "\n",
    "    json.loads(json_repr, object_hook=_decode_dict) # Return value ignored.\n",
    "    return results\n",
    "\n",
    "    # https://stackoverflow.com/questions/14048948/how-to-find-a-particular-json-value-by-key\n"
   ]
  },
  {
   "cell_type": "code",
   "execution_count": 18,
   "metadata": {},
   "outputs": [
    {
     "ename": "NameError",
     "evalue": "name 'ct' is not defined",
     "output_type": "error",
     "traceback": [
      "\u001b[0;31m---------------------------------------------------------------------------\u001b[0m",
      "\u001b[0;31mNameError\u001b[0m                                 Traceback (most recent call last)",
      "\u001b[1;32m/Volumes/Data_Backup/github/APT_CT_workflow/part_3_checking_results.ipynb Cell 15\u001b[0m in \u001b[0;36m<cell line: 8>\u001b[0;34m()\u001b[0m\n\u001b[1;32m      <a href='vscode-notebook-cell:/Volumes/Data_Backup/github/APT_CT_workflow/part_3_checking_results.ipynb#X20sZmlsZQ%3D%3D?line=0'>1</a>\u001b[0m \u001b[39m##works\u001b[39;00m\n\u001b[1;32m      <a href='vscode-notebook-cell:/Volumes/Data_Backup/github/APT_CT_workflow/part_3_checking_results.ipynb#X20sZmlsZQ%3D%3D?line=1'>2</a>\u001b[0m \u001b[39m# NCTId = 'NCT03698591'\u001b[39;00m\n\u001b[1;32m      <a href='vscode-notebook-cell:/Volumes/Data_Backup/github/APT_CT_workflow/part_3_checking_results.ipynb#X20sZmlsZQ%3D%3D?line=2'>3</a>\u001b[0m \n\u001b[1;32m      <a href='vscode-notebook-cell:/Volumes/Data_Backup/github/APT_CT_workflow/part_3_checking_results.ipynb#X20sZmlsZQ%3D%3D?line=3'>4</a>\u001b[0m \u001b[39m##no results\u001b[39;00m\n\u001b[1;32m      <a href='vscode-notebook-cell:/Volumes/Data_Backup/github/APT_CT_workflow/part_3_checking_results.ipynb#X20sZmlsZQ%3D%3D?line=4'>5</a>\u001b[0m \u001b[39m# NCTId = 'NCT03243214'\u001b[39;00m\n\u001b[1;32m      <a href='vscode-notebook-cell:/Volumes/Data_Backup/github/APT_CT_workflow/part_3_checking_results.ipynb#X20sZmlsZQ%3D%3D?line=6'>7</a>\u001b[0m NCTId \u001b[39m=\u001b[39m \u001b[39m'\u001b[39m\u001b[39mNCT02273063\u001b[39m\u001b[39m'\u001b[39m\n\u001b[0;32m----> <a href='vscode-notebook-cell:/Volumes/Data_Backup/github/APT_CT_workflow/part_3_checking_results.ipynb#X20sZmlsZQ%3D%3D?line=7'>8</a>\u001b[0m json_temp \u001b[39m=\u001b[39m ct\u001b[39m.\u001b[39mget_full_studies(NCTId, max_studies\u001b[39m=\u001b[39m\u001b[39m1\u001b[39m, min_rnk\u001b[39m=\u001b[39m\u001b[39m1\u001b[39m)\n\u001b[1;32m     <a href='vscode-notebook-cell:/Volumes/Data_Backup/github/APT_CT_workflow/part_3_checking_results.ipynb#X20sZmlsZQ%3D%3D?line=10'>11</a>\u001b[0m person_json \u001b[39m=\u001b[39m json\u001b[39m.\u001b[39mdumps(json_temp[\u001b[39m'\u001b[39m\u001b[39mFullStudiesResponse\u001b[39m\u001b[39m'\u001b[39m][\u001b[39m'\u001b[39m\u001b[39mFullStudies\u001b[39m\u001b[39m'\u001b[39m][\u001b[39m0\u001b[39m][\u001b[39m'\u001b[39m\u001b[39mStudy\u001b[39m\u001b[39m'\u001b[39m][\u001b[39m'\u001b[39m\u001b[39mResultsSection\u001b[39m\u001b[39m'\u001b[39m][\u001b[39m'\u001b[39m\u001b[39mBaselineCharacteristicsModule\u001b[39m\u001b[39m'\u001b[39m][\u001b[39m'\u001b[39m\u001b[39mBaselineMeasureList\u001b[39m\u001b[39m'\u001b[39m])\n\u001b[1;32m     <a href='vscode-notebook-cell:/Volumes/Data_Backup/github/APT_CT_workflow/part_3_checking_results.ipynb#X20sZmlsZQ%3D%3D?line=13'>14</a>\u001b[0m \u001b[39m# person_json = json.dumps(json_temp['FullStudiesResponse']['FullStudies'][0]['Study']['ResultsSection']['BaselineCharacteristicsModule']['BaselineMeasureList']['BaselineMeasure'])\u001b[39;00m\n\u001b[1;32m     <a href='vscode-notebook-cell:/Volumes/Data_Backup/github/APT_CT_workflow/part_3_checking_results.ipynb#X20sZmlsZQ%3D%3D?line=14'>15</a>\u001b[0m \u001b[39m# json_search_str = json.dumps(person_json)\u001b[39;00m\n\u001b[1;32m     <a href='vscode-notebook-cell:/Volumes/Data_Backup/github/APT_CT_workflow/part_3_checking_results.ipynb#X20sZmlsZQ%3D%3D?line=15'>16</a>\u001b[0m \n\u001b[0;32m   (...)\u001b[0m\n\u001b[1;32m     <a href='vscode-notebook-cell:/Volumes/Data_Backup/github/APT_CT_workflow/part_3_checking_results.ipynb#X20sZmlsZQ%3D%3D?line=68'>69</a>\u001b[0m \u001b[39m# print('more than one: ' + more_than_one_total)\u001b[39;00m\n\u001b[1;32m     <a href='vscode-notebook-cell:/Volumes/Data_Backup/github/APT_CT_workflow/part_3_checking_results.ipynb#X20sZmlsZQ%3D%3D?line=69'>70</a>\u001b[0m \u001b[39m# print('unknown: ' + unknown_total)\u001b[39;00m\n",
      "\u001b[0;31mNameError\u001b[0m: name 'ct' is not defined"
     ]
    }
   ],
   "source": [
    "##works\n",
    "# NCTId = 'NCT03698591'\n",
    "\n",
    "##no results\n",
    "# NCTId = 'NCT03243214'\n",
    "\n",
    "NCTId = 'NCT02273063'\n",
    "json_temp = ct.get_full_studies(NCTId, max_studies=1, min_rnk=1)\n",
    "\n",
    "\n",
    "person_json = json.dumps(json_temp['FullStudiesResponse']['FullStudies'][0]['Study']['ResultsSection']['BaselineCharacteristicsModule']['BaselineMeasureList'])\n",
    "\n",
    "\n",
    "# person_json = json.dumps(json_temp['FullStudiesResponse']['FullStudies'][0]['Study']['ResultsSection']['BaselineCharacteristicsModule']['BaselineMeasureList']['BaselineMeasure'])\n",
    "# json_search_str = json.dumps(person_json)\n",
    "\n",
    "# This control the Race: ['BaselineCategory'][0]\n",
    "\n",
    "# question = json.dumps(json_temp['FullStudiesResponse']['FullStudies'][0]['Study']['ResultsSection']['BaselineCharacteristicsModule']['BaselineMeasureList']['BaselineMeasure'][3]['BaselineClassList']['BaselineClass'][0]['BaselineCategoryList']['BaselineCategory'][0])\n",
    "\n",
    "\n",
    "# question = json.dumps(json_temp['FullStudiesResponse']['FullStudies'][0]['Study']['ResultsSection']['BaselineCharacteristicsModule']['BaselineMeasureList']['BaselineMeasure'][2]['BaselineClassList']['BaselineClass'][0]['BaselineCategoryList']['BaselineCategory'][0])\n",
    "\n",
    "\n",
    "# print(find_values('Description', person_json))\n",
    "\n",
    "\n",
    "# Race (NIH/OMB)\n",
    "# 0 - \"American Indian or Alaska Native\"\n",
    "# 1 - \"Asian\"\n",
    "# 2 - \"Native Hawaiian or Other Pacific Islander\"\n",
    "# 3 - \"Black or African American\"\n",
    "# 4 - \"White\"\n",
    "# 5 - \"More than one race\"\n",
    "# 6 - \"Unknown or Not Reported\"\n",
    "\n",
    "\n",
    "# # 0 - \"American Indian or Alaska Native\"\n",
    "# American_Indian = json.dumps(json_temp['FullStudiesResponse']['FullStudies'][0]['Study']['ResultsSection']['BaselineCharacteristicsModule']['BaselineMeasureList']['BaselineMeasure'][3]['BaselineClassList']['BaselineClass'][0]['BaselineCategoryList']['BaselineCategory'][0]['BaselineMeasurementList']['BaselineMeasurement'][2]['BaselineMeasurementValue'][0]) \n",
    "\n",
    "# # 1 - \"Asian\"\n",
    "# Asian_total = json.dumps(json_temp['FullStudiesResponse']['FullStudies'][0]['Study']['ResultsSection']['BaselineCharacteristicsModule']['BaselineMeasureList']['BaselineMeasure'][3]['BaselineClassList']['BaselineClass'][0]['BaselineCategoryList']['BaselineCategory'][1]['BaselineMeasurementList']['BaselineMeasurement'][2]['BaselineMeasurementValue']) \n",
    "\n",
    "\n",
    "# # 2 - \"Native Hawaiian or Other Pacific Islander\"\n",
    "# hawaiian_total = json.dumps(json_temp['FullStudiesResponse']['FullStudies'][0]['Study']['ResultsSection']['BaselineCharacteristicsModule']['BaselineMeasureList']['BaselineMeasure'][3]['BaselineClassList']['BaselineClass'][0]['BaselineCategoryList']['BaselineCategory'][2]['BaselineMeasurementList']['BaselineMeasurement'][2]['BaselineMeasurementValue']) \n",
    "\n",
    "# # 3 - \"Black or African American\"\n",
    "# black_total = json.dumps(json_temp['FullStudiesResponse']['FullStudies'][0]['Study']['ResultsSection']['BaselineCharacteristicsModule']['BaselineMeasureList']['BaselineMeasure'][3]['BaselineClassList']['BaselineClass'][0]['BaselineCategoryList']['BaselineCategory'][3]['BaselineMeasurementList']['BaselineMeasurement'][2]['BaselineMeasurementValue']) \n",
    "\n",
    "# # 4 - \"White\"\n",
    "# white_total = json.dumps(json_temp['FullStudiesResponse']['FullStudies'][0]['Study']['ResultsSection']['BaselineCharacteristicsModule']['BaselineMeasureList']['BaselineMeasure'][3]['BaselineClassList']['BaselineClass'][0]['BaselineCategoryList']['BaselineCategory'][4]['BaselineMeasurementList']['BaselineMeasurement'][2]['BaselineMeasurementValue']) \n",
    "\n",
    "# # 5 - \"More than one race\"\n",
    "# more_than_one_total = json.dumps(json_temp['FullStudiesResponse']['FullStudies'][0]['Study']['ResultsSection']['BaselineCharacteristicsModule']['BaselineMeasureList']['BaselineMeasure'][3]['BaselineClassList']['BaselineClass'][0]['BaselineCategoryList']['BaselineCategory'][5]['BaselineMeasurementList']['BaselineMeasurement'][2]['BaselineMeasurementValue']) \n",
    "\n",
    "# # 6 - \"Unknown or Not Reported\"\n",
    "# unknown_total = json.dumps(json_temp['FullStudiesResponse']['FullStudies'][0]['Study']['ResultsSection']['BaselineCharacteristicsModule']['BaselineMeasureList']['BaselineMeasure'][3]['BaselineClassList']['BaselineClass'][0]['BaselineCategoryList']['BaselineCategory'][6]['BaselineMeasurementList']['BaselineMeasurement'][2]['BaselineMeasurementValue'])\n",
    "\n",
    "# # ['BaselineMeasureParamType']\n",
    "# # ['BaselineValueList']['BaselineValue'])\n",
    "# # person_json2 = json.dumps(json_temp['FullStudiesResponse']['FullStudies'][0]['Study']['ResultsSection']['BaselineCharacteristicsModule']['BaselineMeasureList']['BaselineMeasure'][0])\n",
    " \n",
    "# print('merican Indian or Alaska Native: ' + American_Indian)\n",
    "# print('Asian: ' +Asian_total)\n",
    "# print('Native Hawaiian or Other Pacific Islander: ' + hawaiian_total)\n",
    "# print('Aferican American: ' + black_total)\n",
    "# print('white: ' + white_total)\n",
    "# print('more than one: ' + more_than_one_total)\n",
    "# print('unknown: ' + unknown_total)\n",
    "\n",
    "print(person_json)"
   ]
  },
  {
   "cell_type": "code",
   "execution_count": null,
   "metadata": {},
   "outputs": [],
   "source": [
    "import json\n",
    "with open('data.json', 'w') as f:\n",
    "    json.dump(person_json, f)\n",
    "\n",
    "# person_json.to_csv('test.csv')"
   ]
  },
  {
   "cell_type": "code",
   "execution_count": null,
   "metadata": {},
   "outputs": [
    {
     "data": {
      "text/plain": [
       "'{\"BaselineMeasureTitle\": \"Age, Categorical\", \"BaselineMeasureParamType\": \"Count of Participants\", \"BaselineMeasureUnitOfMeasure\": \"Participants\", \"BaselineClassList\": {\"BaselineClass\": [{\"BaselineCategoryList\": {\"BaselineCategory\": [{\"BaselineCategoryTitle\": \"<=18 years\", \"BaselineMeasurementList\": {\"BaselineMeasurement\": [{\"BaselineMeasurementGroupId\": \"BG000\", \"BaselineMeasurementValue\": \"0\"}, {\"BaselineMeasurementGroupId\": \"BG001\", \"BaselineMeasurementValue\": \"0\"}, {\"BaselineMeasurementGroupId\": \"BG002\", \"BaselineMeasurementValue\": \"0\"}]}}, {\"BaselineCategoryTitle\": \"Between 18 and 65 years\", \"BaselineMeasurementList\": {\"BaselineMeasurement\": [{\"BaselineMeasurementGroupId\": \"BG000\", \"BaselineMeasurementValue\": \"15\"}, {\"BaselineMeasurementGroupId\": \"BG001\", \"BaselineMeasurementValue\": \"15\"}, {\"BaselineMeasurementGroupId\": \"BG002\", \"BaselineMeasurementValue\": \"30\"}]}}, {\"BaselineCategoryTitle\": \">=65 years\", \"BaselineMeasurementList\": {\"BaselineMeasurement\": [{\"BaselineMeasurementGroupId\": \"BG000\", \"BaselineMeasurementValue\": \"0\"}, {\"BaselineMeasurementGroupId\": \"BG001\", \"BaselineMeasurementValue\": \"0\"}, {\"BaselineMeasurementGroupId\": \"BG002\", \"BaselineMeasurementValue\": \"0\"}]}}]}}]}}'"
      ]
     },
     "execution_count": 186,
     "metadata": {},
     "output_type": "execute_result"
    }
   ],
   "source": [
    "person_json"
   ]
  },
  {
   "cell_type": "markdown",
   "metadata": {},
   "source": []
  },
  {
   "cell_type": "markdown",
   "metadata": {},
   "source": [
    "json_temp.to_json"
   ]
  },
  {
   "cell_type": "code",
   "execution_count": null,
   "metadata": {},
   "outputs": [
    {
     "ename": "SyntaxError",
     "evalue": "incomplete input (1319822603.py, line 1)",
     "output_type": "error",
     "traceback": [
      "\u001b[0;36m  Input \u001b[0;32mIn [150]\u001b[0;36m\u001b[0m\n\u001b[0;31m    json_temp.to_json('json_temp.json'.format(disease)\u001b[0m\n\u001b[0m                                                      ^\u001b[0m\n\u001b[0;31mSyntaxError\u001b[0m\u001b[0;31m:\u001b[0m incomplete input\n"
     ]
    }
   ],
   "source": [
    "json_temp.to_json('json_temp.json'.format(disease)"
   ]
  },
  {
   "cell_type": "code",
   "execution_count": null,
   "metadata": {},
   "outputs": [
    {
     "ename": "KeyError",
     "evalue": "'BaselineCharacteristicsModule'",
     "output_type": "error",
     "traceback": [
      "\u001b[0;31m---------------------------------------------------------------------------\u001b[0m",
      "\u001b[0;31mKeyError\u001b[0m                                  Traceback (most recent call last)",
      "\u001b[1;32m/Volumes/Data_Backup/github/APT_CT_workflow/part_3_checking_results.ipynb Cell 17\u001b[0m in \u001b[0;36m<cell line: 4>\u001b[0;34m()\u001b[0m\n\u001b[1;32m      <a href='vscode-notebook-cell:/Volumes/Data_Backup/github/APT_CT_workflow/part_3_checking_results.ipynb#Y112sZmlsZQ%3D%3D?line=0'>1</a>\u001b[0m \u001b[39m# print(json_string)\u001b[39;00m\n\u001b[1;32m      <a href='vscode-notebook-cell:/Volumes/Data_Backup/github/APT_CT_workflow/part_3_checking_results.ipynb#Y112sZmlsZQ%3D%3D?line=1'>2</a>\u001b[0m \u001b[39m# print(json_string['FullStudiesResponse'])\u001b[39;00m\n\u001b[1;32m      <a href='vscode-notebook-cell:/Volumes/Data_Backup/github/APT_CT_workflow/part_3_checking_results.ipynb#Y112sZmlsZQ%3D%3D?line=2'>3</a>\u001b[0m \u001b[39m# json_string['FullStudiesResponse']['FullStudies'][0]['BaselineCharacteristicsModule']['BaselinePopulationDescription']\u001b[39;00m\n\u001b[0;32m----> <a href='vscode-notebook-cell:/Volumes/Data_Backup/github/APT_CT_workflow/part_3_checking_results.ipynb#Y112sZmlsZQ%3D%3D?line=3'>4</a>\u001b[0m json_string[\u001b[39m'\u001b[39;49m\u001b[39mFullStudiesResponse\u001b[39;49m\u001b[39m'\u001b[39;49m][\u001b[39m'\u001b[39;49m\u001b[39mFullStudies\u001b[39;49m\u001b[39m'\u001b[39;49m][\u001b[39m0\u001b[39;49m][\u001b[39m'\u001b[39;49m\u001b[39mBaselineCharacteristicsModule\u001b[39;49m\u001b[39m'\u001b[39;49m][\u001b[39m'\u001b[39m\u001b[39mBaselinePopulationDescription\u001b[39m\u001b[39m'\u001b[39m][\u001b[39m'\u001b[39m\u001b[39mDemographicModule\u001b[39m\u001b[39m'\u001b[39m]\n",
      "\u001b[0;31mKeyError\u001b[0m: 'BaselineCharacteristicsModule'"
     ]
    }
   ],
   "source": [
    "# print(json_string)\n",
    "# print(json_string['FullStudiesResponse'])\n",
    "# json_string['FullStudiesResponse']['FullStudies'][0]['BaselineCharacteristicsModule']['BaselinePopulationDescription']\n",
    "json_string['FullStudiesResponse']['FullStudies'][0]['BaselineCharacteristicsModule']['BaselinePopulationDescription']['DemographicModule']\n",
    "# json_string(['FullStudiesResponse']['FullStudies']).keys()\n",
    "\n",
    "# print(json_string).keys()"
   ]
  },
  {
   "cell_type": "markdown",
   "metadata": {},
   "source": []
  },
  {
   "cell_type": "markdown",
   "metadata": {},
   "source": []
  },
  {
   "cell_type": "code",
   "execution_count": null,
   "metadata": {},
   "outputs": [],
   "source": [
    "start = 0\n",
    "end = 5\n",
    "iter = 99 #number of studies to get at a time ( limited to 1000 )\n",
    "\n",
    "\n",
    "for ind in check.index:\n",
    "# for ind in check.index(1):\n",
    "    # print(check['NCTId'][ind])\n",
    "\n",
    "    # ct.get_full_studies(check['NCTId'][ind], max_studies=ter, min_rnk=start, fmt=\"json\")\n",
    "    json_string = ct.get_full_studies(check['NCTId'][ind], max_studies=1, min_rnk=1)\n",
    "    #this one works\n",
    "    print(json_string['FullStudiesResponse']['FullStudies'][0])\n",
    "    # print(json_string['FullStudiesResponse']['FullStudies'][0]['Study']['ResultsSection']['BaselineCharacteristicsModule']['BaselinePopulationDescription'])\n",
    "    # print(json_string['FullStudiesResponse']['FullStudies'][0]['Study']['ResultsSection'])\n",
    "    # print(json_string['FullStudiesResponse']['FullStudies'][0]['Study']['ResultsSection']['OutcomeMeasuresModule']['OutcomeMeasureList']['OutcomeMeasure'][0]['Measure'])\n",
    "        # print(json_string['FullStudiesResponse']['FullStudies'][0]['Study']['ResultsSection']['DescriptionModule']['BriefSummary'])\n",
    "    # print(temp['FullStudiesResponse.FullStudies'])\n",
    "    # print(temp['FullStudiesResponse.FullStudies'][0]['Study']['ProtocolSection']['DesignModule']['PrimaryPurpose'])\n",
    "    \n",
    "    # temp2 =  pd.json_normalize(temp)\n",
    "    #write to csv file\n",
    "    # new_df = pd.concat([new_df, temp2])\n"
   ]
  },
  {
   "cell_type": "markdown",
   "metadata": {},
   "source": [
    "[{'Rank': 1, 'Study': {'ProtocolSection': {'Id...\n"
   ]
  },
  {
   "cell_type": "code",
   "execution_count": null,
   "metadata": {},
   "outputs": [],
   "source": [
    "new_df"
   ]
  },
  {
   "cell_type": "code",
   "execution_count": null,
   "metadata": {},
   "outputs": [],
   "source": [
    "# for df_tmp in check[NCTId]:\n",
    "#     # print(NCTI_d)\n",
    "#     print(df_tmp)\n",
    "from random import seed\n",
    "from random import random\n",
    "\n",
    "temp = pd.DataFrame()\n",
    "temp2 = pd.DataFrame()\n",
    "new_df = pd.DataFrame()\n",
    "array = {}\n",
    "array ['key'] = 'value'\n",
    "json_data = json.dumps(array)\n",
    "ct = ClinicalTrials()\n",
    "\n",
    "start = 0\n",
    "# end = count\n",
    "\n",
    "ter = 99 #number of studies to get at a time ( limited to 1000 )\n",
    "\n",
    "for ind in check.index:\n",
    "    print(check['NCTId'][ind])\n",
    "    ct.get_full_studies(check['NCTId'][ind], max_studies=ter, min_rnk=start, fmt=\"json\")\n",
    "    # ct.get_full_studies(\n",
    "    #         search_expr=disease,\n",
    "    #         max_studies=iter,\n",
    "    #         min_rnk=i,\n",
    "            \n",
    "    #         # fmt=\"csv\",\n",
    "    #         )\n",
    "    #     # print(count),\n",
    "        # print(str(i) + \"-\" + str(iter) + \" of \" + str(count))\n",
    "        # print(temp2[0])\n",
    "        # temp2 =  pd.json_normalize(temp)\n",
    "        # json_object = temp['FullStudiesResponse']\n",
    "        # array = temp['FullStudiesResponse']\n",
    "        # temp2 = pd.json_normalize(temp())\n",
    "        # new_df = pd.concat([new_df, temp2])\n",
    "    # print(x)\n",
    "# https://clinicaltrials.gov/api/gui/demo/simple_full_study\n",
    "\n",
    "\n"
   ]
  },
  {
   "cell_type": "code",
   "execution_count": null,
   "metadata": {},
   "outputs": [],
   "source": [
    "# for i in check:\n",
    "#     print(i)\n",
    "#     # print(NCTId)"
   ]
  },
  {
   "cell_type": "code",
   "execution_count": null,
   "metadata": {},
   "outputs": [],
   "source": [
    "\n",
    "# infodf= (ct.get_full_studies(search_expr=disease, max_studies=5 ))\n"
   ]
  },
  {
   "cell_type": "code",
   "execution_count": null,
   "metadata": {},
   "outputs": [],
   "source": []
  },
  {
   "cell_type": "code",
   "execution_count": null,
   "metadata": {},
   "outputs": [],
   "source": []
  }
 ],
 "metadata": {
  "kernelspec": {
   "display_name": "Python 3.10.4 ('da622')",
   "language": "python",
   "name": "python3"
  },
  "language_info": {
   "codemirror_mode": {
    "name": "ipython",
    "version": 3
   },
   "file_extension": ".py",
   "mimetype": "text/x-python",
   "name": "python",
   "nbconvert_exporter": "python",
   "pygments_lexer": "ipython3",
   "version": "3.10.4"
  },
  "orig_nbformat": 4,
  "vscode": {
   "interpreter": {
    "hash": "df62669469e0c829d1be92d7cbf744ae4e816a6cbdfe4831b5e613d3386bb9e2"
   }
  }
 },
 "nbformat": 4,
 "nbformat_minor": 2
}
