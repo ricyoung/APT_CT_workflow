{
 "cells": [
  {
   "cell_type": "markdown",
   "metadata": {},
   "source": [
    "Do stuff with the data"
   ]
  },
  {
   "cell_type": "code",
   "execution_count": 142,
   "metadata": {},
   "outputs": [],
   "source": [
    "#Cleaned up Crypto Example\n",
    "from os import system\n",
    "import pandas as pd\n",
    "import requests\n",
    "import datetime as dt\n",
    "# from pytrials.client import ClinicalTrials\n",
    "import json\n",
    "import ipywidgets as widgets\n",
    "import numpy as np\n",
    "np.random.seed(10031975)\n",
    "import matplotlib.pyplot as plt\n",
    "import numpy as np\n",
    "from matplotlib import rcParams, cycler\n",
    "import matplotlib.pyplot as plt\n",
    "from matplotlib.ticker import AutoMinorLocator"
   ]
  },
  {
   "cell_type": "code",
   "execution_count": 143,
   "metadata": {},
   "outputs": [],
   "source": [
    "# result.to_csv(r'data_raw.csv', index = False)\n",
    "\n",
    "# moved over to hdf because of speical characters in the data (just in case)\n",
    "\n",
    "# result.to_hdf('data_raw.h5', key='df', mode='w')  \n",
    "# data = pd.read_hdf('data_raw.h5', key='df')\n",
    "\n",
    "\n",
    "data = pd.read_csv(r'data_raw.csv',)"
   ]
  },
  {
   "cell_type": "code",
   "execution_count": 144,
   "metadata": {},
   "outputs": [
    {
     "data": {
      "text/plain": [
       "(16117, 39)"
      ]
     },
     "execution_count": 144,
     "metadata": {},
     "output_type": "execute_result"
    }
   ],
   "source": [
    "data.shape"
   ]
  },
  {
   "cell_type": "code",
   "execution_count": 145,
   "metadata": {},
   "outputs": [
    {
     "data": {
      "text/plain": [
       "0        NCT02735226\n",
       "1        NCT02301299\n",
       "2        NCT02772445\n",
       "3        NCT00773370\n",
       "4        NCT03370094\n",
       "            ...     \n",
       "16112    NCT02377388\n",
       "16113    NCT04190368\n",
       "16114    NCT04515875\n",
       "16115    NCT03031821\n",
       "16116    NCT04891445\n",
       "Name: NCTId, Length: 16117, dtype: object"
      ]
     },
     "execution_count": 145,
     "metadata": {},
     "output_type": "execute_result"
    }
   ],
   "source": [
    "data.NCTId"
   ]
  },
  {
   "cell_type": "markdown",
   "metadata": {},
   "source": [
    "Lets add hyper links \n",
    "\n",
    "https://www.clinicaltrials.gov/ct2/show/record/NCT04032262"
   ]
  },
  {
   "cell_type": "code",
   "execution_count": 146,
   "metadata": {},
   "outputs": [],
   "source": [
    "data['pre_link'] = pd.Series(['https://www.clinicaltrials.gov/ct2/show/record/' for x in range(len(data.index))])\n",
    "#\n",
    "\n",
    "data[\"link\"] = \"=HYPERLINK(\\\"https://www.clinicaltrials.gov/ct2/show/\"+data[\"NCTId\"].astype(str)+\"\\\", \\\"\"+data[\"NCTId\"].astype(str)+\"\\\")\"\n"
   ]
  },
  {
   "cell_type": "code",
   "execution_count": 147,
   "metadata": {},
   "outputs": [
    {
     "ename": "AttributeError",
     "evalue": "'DataFrame' object has no attribute 'link2'",
     "output_type": "error",
     "traceback": [
      "\u001b[0;31m---------------------------------------------------------------------------\u001b[0m",
      "\u001b[0;31mAttributeError\u001b[0m                            Traceback (most recent call last)",
      "\u001b[1;32m/Volumes/Data_Backup/github/API_CT/procressor.ipynb Cell 8'\u001b[0m in \u001b[0;36m<cell line: 1>\u001b[0;34m()\u001b[0m\n\u001b[0;32m----> <a href='vscode-notebook-cell:/Volumes/Data_Backup/github/API_CT/procressor.ipynb#ch0000063?line=0'>1</a>\u001b[0m data\u001b[39m.\u001b[39;49mlink2\n",
      "File \u001b[0;32m~/opt/anaconda3/envs/da622/lib/python3.10/site-packages/pandas/core/generic.py:5575\u001b[0m, in \u001b[0;36mNDFrame.__getattr__\u001b[0;34m(self, name)\u001b[0m\n\u001b[1;32m   <a href='file:///Users/ryoung/opt/anaconda3/envs/da622/lib/python3.10/site-packages/pandas/core/generic.py?line=5567'>5568</a>\u001b[0m \u001b[39mif\u001b[39;00m (\n\u001b[1;32m   <a href='file:///Users/ryoung/opt/anaconda3/envs/da622/lib/python3.10/site-packages/pandas/core/generic.py?line=5568'>5569</a>\u001b[0m     name \u001b[39mnot\u001b[39;00m \u001b[39min\u001b[39;00m \u001b[39mself\u001b[39m\u001b[39m.\u001b[39m_internal_names_set\n\u001b[1;32m   <a href='file:///Users/ryoung/opt/anaconda3/envs/da622/lib/python3.10/site-packages/pandas/core/generic.py?line=5569'>5570</a>\u001b[0m     \u001b[39mand\u001b[39;00m name \u001b[39mnot\u001b[39;00m \u001b[39min\u001b[39;00m \u001b[39mself\u001b[39m\u001b[39m.\u001b[39m_metadata\n\u001b[1;32m   <a href='file:///Users/ryoung/opt/anaconda3/envs/da622/lib/python3.10/site-packages/pandas/core/generic.py?line=5570'>5571</a>\u001b[0m     \u001b[39mand\u001b[39;00m name \u001b[39mnot\u001b[39;00m \u001b[39min\u001b[39;00m \u001b[39mself\u001b[39m\u001b[39m.\u001b[39m_accessors\n\u001b[1;32m   <a href='file:///Users/ryoung/opt/anaconda3/envs/da622/lib/python3.10/site-packages/pandas/core/generic.py?line=5571'>5572</a>\u001b[0m     \u001b[39mand\u001b[39;00m \u001b[39mself\u001b[39m\u001b[39m.\u001b[39m_info_axis\u001b[39m.\u001b[39m_can_hold_identifiers_and_holds_name(name)\n\u001b[1;32m   <a href='file:///Users/ryoung/opt/anaconda3/envs/da622/lib/python3.10/site-packages/pandas/core/generic.py?line=5572'>5573</a>\u001b[0m ):\n\u001b[1;32m   <a href='file:///Users/ryoung/opt/anaconda3/envs/da622/lib/python3.10/site-packages/pandas/core/generic.py?line=5573'>5574</a>\u001b[0m     \u001b[39mreturn\u001b[39;00m \u001b[39mself\u001b[39m[name]\n\u001b[0;32m-> <a href='file:///Users/ryoung/opt/anaconda3/envs/da622/lib/python3.10/site-packages/pandas/core/generic.py?line=5574'>5575</a>\u001b[0m \u001b[39mreturn\u001b[39;00m \u001b[39mobject\u001b[39;49m\u001b[39m.\u001b[39;49m\u001b[39m__getattribute__\u001b[39;49m(\u001b[39mself\u001b[39;49m, name)\n",
      "\u001b[0;31mAttributeError\u001b[0m: 'DataFrame' object has no attribute 'link2'"
     ]
    }
   ],
   "source": [
    "data.link2"
   ]
  },
  {
   "cell_type": "code",
   "execution_count": null,
   "metadata": {},
   "outputs": [],
   "source": [
    "# data[\"link\"] = data[\"pre_link\"].astype(str) + data[\"NCTId\"].astype(str)\n"
   ]
  },
  {
   "cell_type": "code",
   "execution_count": null,
   "metadata": {},
   "outputs": [
    {
     "data": {
      "text/plain": [
       "(16117, 41)"
      ]
     },
     "execution_count": 126,
     "metadata": {},
     "output_type": "execute_result"
    }
   ],
   "source": [
    "data.shape"
   ]
  },
  {
   "cell_type": "code",
   "execution_count": null,
   "metadata": {},
   "outputs": [
    {
     "data": {
      "text/plain": [
       "Index                           int64\n",
       "NCTId                          object\n",
       "Condition                      object\n",
       "OfficialTitle                  object\n",
       "BriefTitle                     object\n",
       "Acronym                        object\n",
       "StudyType                      object\n",
       "InterventionType               object\n",
       "InterventionName               object\n",
       "InterventionOtherName          object\n",
       "InterventionDescription        object\n",
       "Phase                          object\n",
       "StudyFirstSubmitDate           object\n",
       "LastUpdateSubmitDate           object\n",
       "CompletionDate                 object\n",
       "OverallStatus                  object\n",
       "BaselineMeasureTitle           object\n",
       "BaselineMeasureDescription     object\n",
       "BaselineMeasurementValue       object\n",
       "BriefSummary                   object\n",
       "IsFDARegulatedDrug             object\n",
       "IsFDARegulatedDevice           object\n",
       "IsUnapprovedDevice             object\n",
       "PrimaryOutcomeMeasure          object\n",
       "PrimaryOutcomeDescription      object\n",
       "PrimaryOutcomeTimeFrame        object\n",
       "SecondaryOutcomeMeasure        object\n",
       "SecondaryOutcomeDescription    object\n",
       "SecondaryOutcomeTimeFrame      object\n",
       "OtherOutcomeMeasure            object\n",
       "OtherOutcomeDescription        object\n",
       "OtherOutcomeTimeFrame          object\n",
       "EligibilityCriteria            object\n",
       "StudyPopulation                object\n",
       "HealthyVolunteers              object\n",
       "ReferencePMID                  object\n",
       "LocationCity                   object\n",
       "LocationState                  object\n",
       "LocationFacility               object\n",
       "pre_link                       object\n",
       "link2                          object\n",
       "dtype: object"
      ]
     },
     "execution_count": 127,
     "metadata": {},
     "output_type": "execute_result"
    }
   ],
   "source": [
    "data.dtypes"
   ]
  },
  {
   "cell_type": "code",
   "execution_count": null,
   "metadata": {},
   "outputs": [],
   "source": []
  },
  {
   "cell_type": "code",
   "execution_count": null,
   "metadata": {},
   "outputs": [],
   "source": []
  },
  {
   "cell_type": "code",
   "execution_count": null,
   "metadata": {},
   "outputs": [
    {
     "ename": "KeyError",
     "evalue": "'link'",
     "output_type": "error",
     "traceback": [
      "\u001b[0;31m---------------------------------------------------------------------------\u001b[0m",
      "\u001b[0;31mKeyError\u001b[0m                                  Traceback (most recent call last)",
      "File \u001b[0;32m~/opt/anaconda3/envs/da622/lib/python3.10/site-packages/pandas/core/indexes/base.py:3621\u001b[0m, in \u001b[0;36mIndex.get_loc\u001b[0;34m(self, key, method, tolerance)\u001b[0m\n\u001b[1;32m   <a href='file:///Users/ryoung/opt/anaconda3/envs/da622/lib/python3.10/site-packages/pandas/core/indexes/base.py?line=3619'>3620</a>\u001b[0m \u001b[39mtry\u001b[39;00m:\n\u001b[0;32m-> <a href='file:///Users/ryoung/opt/anaconda3/envs/da622/lib/python3.10/site-packages/pandas/core/indexes/base.py?line=3620'>3621</a>\u001b[0m     \u001b[39mreturn\u001b[39;00m \u001b[39mself\u001b[39;49m\u001b[39m.\u001b[39;49m_engine\u001b[39m.\u001b[39;49mget_loc(casted_key)\n\u001b[1;32m   <a href='file:///Users/ryoung/opt/anaconda3/envs/da622/lib/python3.10/site-packages/pandas/core/indexes/base.py?line=3621'>3622</a>\u001b[0m \u001b[39mexcept\u001b[39;00m \u001b[39mKeyError\u001b[39;00m \u001b[39mas\u001b[39;00m err:\n",
      "File \u001b[0;32m~/opt/anaconda3/envs/da622/lib/python3.10/site-packages/pandas/_libs/index.pyx:136\u001b[0m, in \u001b[0;36mpandas._libs.index.IndexEngine.get_loc\u001b[0;34m()\u001b[0m\n",
      "File \u001b[0;32m~/opt/anaconda3/envs/da622/lib/python3.10/site-packages/pandas/_libs/index.pyx:163\u001b[0m, in \u001b[0;36mpandas._libs.index.IndexEngine.get_loc\u001b[0;34m()\u001b[0m\n",
      "File \u001b[0;32mpandas/_libs/hashtable_class_helper.pxi:5198\u001b[0m, in \u001b[0;36mpandas._libs.hashtable.PyObjectHashTable.get_item\u001b[0;34m()\u001b[0m\n",
      "File \u001b[0;32mpandas/_libs/hashtable_class_helper.pxi:5206\u001b[0m, in \u001b[0;36mpandas._libs.hashtable.PyObjectHashTable.get_item\u001b[0;34m()\u001b[0m\n",
      "\u001b[0;31mKeyError\u001b[0m: 'link'",
      "\nThe above exception was the direct cause of the following exception:\n",
      "\u001b[0;31mKeyError\u001b[0m                                  Traceback (most recent call last)",
      "\u001b[1;32m/Volumes/Data_Backup/github/API_CT/procressor.ipynb Cell 14'\u001b[0m in \u001b[0;36m<cell line: 1>\u001b[0;34m()\u001b[0m\n\u001b[0;32m----> <a href='vscode-notebook-cell:/Volumes/Data_Backup/github/API_CT/procressor.ipynb#ch0000011?line=0'>1</a>\u001b[0m data[\u001b[39m'\u001b[39;49m\u001b[39mlink\u001b[39;49m\u001b[39m'\u001b[39;49m]\n",
      "File \u001b[0;32m~/opt/anaconda3/envs/da622/lib/python3.10/site-packages/pandas/core/frame.py:3505\u001b[0m, in \u001b[0;36mDataFrame.__getitem__\u001b[0;34m(self, key)\u001b[0m\n\u001b[1;32m   <a href='file:///Users/ryoung/opt/anaconda3/envs/da622/lib/python3.10/site-packages/pandas/core/frame.py?line=3502'>3503</a>\u001b[0m \u001b[39mif\u001b[39;00m \u001b[39mself\u001b[39m\u001b[39m.\u001b[39mcolumns\u001b[39m.\u001b[39mnlevels \u001b[39m>\u001b[39m \u001b[39m1\u001b[39m:\n\u001b[1;32m   <a href='file:///Users/ryoung/opt/anaconda3/envs/da622/lib/python3.10/site-packages/pandas/core/frame.py?line=3503'>3504</a>\u001b[0m     \u001b[39mreturn\u001b[39;00m \u001b[39mself\u001b[39m\u001b[39m.\u001b[39m_getitem_multilevel(key)\n\u001b[0;32m-> <a href='file:///Users/ryoung/opt/anaconda3/envs/da622/lib/python3.10/site-packages/pandas/core/frame.py?line=3504'>3505</a>\u001b[0m indexer \u001b[39m=\u001b[39m \u001b[39mself\u001b[39;49m\u001b[39m.\u001b[39;49mcolumns\u001b[39m.\u001b[39;49mget_loc(key)\n\u001b[1;32m   <a href='file:///Users/ryoung/opt/anaconda3/envs/da622/lib/python3.10/site-packages/pandas/core/frame.py?line=3505'>3506</a>\u001b[0m \u001b[39mif\u001b[39;00m is_integer(indexer):\n\u001b[1;32m   <a href='file:///Users/ryoung/opt/anaconda3/envs/da622/lib/python3.10/site-packages/pandas/core/frame.py?line=3506'>3507</a>\u001b[0m     indexer \u001b[39m=\u001b[39m [indexer]\n",
      "File \u001b[0;32m~/opt/anaconda3/envs/da622/lib/python3.10/site-packages/pandas/core/indexes/base.py:3623\u001b[0m, in \u001b[0;36mIndex.get_loc\u001b[0;34m(self, key, method, tolerance)\u001b[0m\n\u001b[1;32m   <a href='file:///Users/ryoung/opt/anaconda3/envs/da622/lib/python3.10/site-packages/pandas/core/indexes/base.py?line=3620'>3621</a>\u001b[0m     \u001b[39mreturn\u001b[39;00m \u001b[39mself\u001b[39m\u001b[39m.\u001b[39m_engine\u001b[39m.\u001b[39mget_loc(casted_key)\n\u001b[1;32m   <a href='file:///Users/ryoung/opt/anaconda3/envs/da622/lib/python3.10/site-packages/pandas/core/indexes/base.py?line=3621'>3622</a>\u001b[0m \u001b[39mexcept\u001b[39;00m \u001b[39mKeyError\u001b[39;00m \u001b[39mas\u001b[39;00m err:\n\u001b[0;32m-> <a href='file:///Users/ryoung/opt/anaconda3/envs/da622/lib/python3.10/site-packages/pandas/core/indexes/base.py?line=3622'>3623</a>\u001b[0m     \u001b[39mraise\u001b[39;00m \u001b[39mKeyError\u001b[39;00m(key) \u001b[39mfrom\u001b[39;00m \u001b[39merr\u001b[39;00m\n\u001b[1;32m   <a href='file:///Users/ryoung/opt/anaconda3/envs/da622/lib/python3.10/site-packages/pandas/core/indexes/base.py?line=3623'>3624</a>\u001b[0m \u001b[39mexcept\u001b[39;00m \u001b[39mTypeError\u001b[39;00m:\n\u001b[1;32m   <a href='file:///Users/ryoung/opt/anaconda3/envs/da622/lib/python3.10/site-packages/pandas/core/indexes/base.py?line=3624'>3625</a>\u001b[0m     \u001b[39m# If we have a listlike key, _check_indexing_error will raise\u001b[39;00m\n\u001b[1;32m   <a href='file:///Users/ryoung/opt/anaconda3/envs/da622/lib/python3.10/site-packages/pandas/core/indexes/base.py?line=3625'>3626</a>\u001b[0m     \u001b[39m#  InvalidIndexError. Otherwise we fall through and re-raise\u001b[39;00m\n\u001b[1;32m   <a href='file:///Users/ryoung/opt/anaconda3/envs/da622/lib/python3.10/site-packages/pandas/core/indexes/base.py?line=3626'>3627</a>\u001b[0m     \u001b[39m#  the TypeError.\u001b[39;00m\n\u001b[1;32m   <a href='file:///Users/ryoung/opt/anaconda3/envs/da622/lib/python3.10/site-packages/pandas/core/indexes/base.py?line=3627'>3628</a>\u001b[0m     \u001b[39mself\u001b[39m\u001b[39m.\u001b[39m_check_indexing_error(key)\n",
      "\u001b[0;31mKeyError\u001b[0m: 'link'"
     ]
    }
   ],
   "source": [
    "# data['link']"
   ]
  },
  {
   "cell_type": "markdown",
   "metadata": {},
   "source": [
    "lets work on time.\n",
    "\n"
   ]
  },
  {
   "cell_type": "code",
   "execution_count": null,
   "metadata": {},
   "outputs": [
    {
     "data": {
      "text/plain": [
       "Index                           int64\n",
       "NCTId                          object\n",
       "Condition                      object\n",
       "OfficialTitle                  object\n",
       "BriefTitle                     object\n",
       "Acronym                        object\n",
       "StudyType                      object\n",
       "InterventionType               object\n",
       "InterventionName               object\n",
       "InterventionOtherName          object\n",
       "InterventionDescription        object\n",
       "Phase                          object\n",
       "StudyFirstSubmitDate           object\n",
       "LastUpdateSubmitDate           object\n",
       "CompletionDate                 object\n",
       "OverallStatus                  object\n",
       "BaselineMeasureTitle           object\n",
       "BaselineMeasureDescription     object\n",
       "BaselineMeasurementValue       object\n",
       "BriefSummary                   object\n",
       "IsFDARegulatedDrug             object\n",
       "IsFDARegulatedDevice           object\n",
       "IsUnapprovedDevice             object\n",
       "PrimaryOutcomeMeasure          object\n",
       "PrimaryOutcomeDescription      object\n",
       "PrimaryOutcomeTimeFrame        object\n",
       "SecondaryOutcomeMeasure        object\n",
       "SecondaryOutcomeDescription    object\n",
       "SecondaryOutcomeTimeFrame      object\n",
       "OtherOutcomeMeasure            object\n",
       "OtherOutcomeDescription        object\n",
       "OtherOutcomeTimeFrame          object\n",
       "EligibilityCriteria            object\n",
       "StudyPopulation                object\n",
       "HealthyVolunteers              object\n",
       "ReferencePMID                  object\n",
       "LocationCity                   object\n",
       "LocationState                  object\n",
       "LocationFacility               object\n",
       "pre_link                       object\n",
       "link                           object\n",
       "dtype: object"
      ]
     },
     "execution_count": 85,
     "metadata": {},
     "output_type": "execute_result"
    }
   ],
   "source": [
    "data.dtypes"
   ]
  },
  {
   "cell_type": "markdown",
   "metadata": {},
   "source": [
    "StudyFirstSubmitDate  \n",
    "LastUpdateSubmitDate \n",
    "CompletionDate "
   ]
  },
  {
   "cell_type": "code",
   "execution_count": null,
   "metadata": {},
   "outputs": [],
   "source": [
    "data['StudyFirstSubmitDate']= pd.to_datetime(data['StudyFirstSubmitDate'])\n",
    "data['LastUpdateSubmitDate']= pd.to_datetime(data['LastUpdateSubmitDate'])\n",
    "data['CompletionDate']= pd.to_datetime(data['CompletionDate'])\n",
    "\n",
    "# xmrdf['Date'] = pd.to_datetime(xmrdf['Date'])  "
   ]
  },
  {
   "cell_type": "code",
   "execution_count": null,
   "metadata": {},
   "outputs": [
    {
     "data": {
      "text/plain": [
       "Index                                   int64\n",
       "NCTId                                  object\n",
       "Condition                              object\n",
       "OfficialTitle                          object\n",
       "BriefTitle                             object\n",
       "Acronym                                object\n",
       "StudyType                              object\n",
       "InterventionType                       object\n",
       "InterventionName                       object\n",
       "InterventionOtherName                  object\n",
       "InterventionDescription                object\n",
       "Phase                                  object\n",
       "StudyFirstSubmitDate           datetime64[ns]\n",
       "LastUpdateSubmitDate           datetime64[ns]\n",
       "CompletionDate                 datetime64[ns]\n",
       "OverallStatus                          object\n",
       "BaselineMeasureTitle                   object\n",
       "BaselineMeasureDescription             object\n",
       "BaselineMeasurementValue               object\n",
       "BriefSummary                           object\n",
       "IsFDARegulatedDrug                     object\n",
       "IsFDARegulatedDevice                   object\n",
       "IsUnapprovedDevice                     object\n",
       "PrimaryOutcomeMeasure                  object\n",
       "PrimaryOutcomeDescription              object\n",
       "PrimaryOutcomeTimeFrame                object\n",
       "SecondaryOutcomeMeasure                object\n",
       "SecondaryOutcomeDescription            object\n",
       "SecondaryOutcomeTimeFrame              object\n",
       "OtherOutcomeMeasure                    object\n",
       "OtherOutcomeDescription                object\n",
       "OtherOutcomeTimeFrame                  object\n",
       "EligibilityCriteria                    object\n",
       "StudyPopulation                        object\n",
       "HealthyVolunteers                      object\n",
       "ReferencePMID                          object\n",
       "LocationCity                           object\n",
       "LocationState                          object\n",
       "LocationFacility                       object\n",
       "pre_link                               object\n",
       "link                                   object\n",
       "dtype: object"
      ]
     },
     "execution_count": 87,
     "metadata": {},
     "output_type": "execute_result"
    }
   ],
   "source": [
    "data.dtypes"
   ]
  },
  {
   "cell_type": "code",
   "execution_count": null,
   "metadata": {},
   "outputs": [],
   "source": [
    "# data = data.drop(data[pre_link], axis=1)\n",
    "data.drop(columns=['pre_link'], inplace=True)"
   ]
  },
  {
   "cell_type": "code",
   "execution_count": null,
   "metadata": {},
   "outputs": [
    {
     "data": {
      "text/plain": [
       "Index                                   int64\n",
       "NCTId                                  object\n",
       "Condition                              object\n",
       "OfficialTitle                          object\n",
       "BriefTitle                             object\n",
       "Acronym                                object\n",
       "StudyType                              object\n",
       "InterventionType                       object\n",
       "InterventionName                       object\n",
       "InterventionOtherName                  object\n",
       "InterventionDescription                object\n",
       "Phase                                  object\n",
       "StudyFirstSubmitDate           datetime64[ns]\n",
       "LastUpdateSubmitDate           datetime64[ns]\n",
       "CompletionDate                 datetime64[ns]\n",
       "OverallStatus                          object\n",
       "BaselineMeasureTitle                   object\n",
       "BaselineMeasureDescription             object\n",
       "BaselineMeasurementValue               object\n",
       "BriefSummary                           object\n",
       "IsFDARegulatedDrug                     object\n",
       "IsFDARegulatedDevice                   object\n",
       "IsUnapprovedDevice                     object\n",
       "PrimaryOutcomeMeasure                  object\n",
       "PrimaryOutcomeDescription              object\n",
       "PrimaryOutcomeTimeFrame                object\n",
       "SecondaryOutcomeMeasure                object\n",
       "SecondaryOutcomeDescription            object\n",
       "SecondaryOutcomeTimeFrame              object\n",
       "OtherOutcomeMeasure                    object\n",
       "OtherOutcomeDescription                object\n",
       "OtherOutcomeTimeFrame                  object\n",
       "EligibilityCriteria                    object\n",
       "StudyPopulation                        object\n",
       "HealthyVolunteers                      object\n",
       "ReferencePMID                          object\n",
       "LocationCity                           object\n",
       "LocationState                          object\n",
       "LocationFacility                       object\n",
       "link                                   object\n",
       "dtype: object"
      ]
     },
     "execution_count": 89,
     "metadata": {},
     "output_type": "execute_result"
    }
   ],
   "source": [
    "data.dtypes"
   ]
  },
  {
   "cell_type": "markdown",
   "metadata": {},
   "source": [
    "Lets look at project completed in the last 1 years"
   ]
  },
  {
   "cell_type": "code",
   "execution_count": null,
   "metadata": {},
   "outputs": [],
   "source": [
    "start_date = '2021-01-1'\n",
    "end_date = '2021-12-01'\n",
    "# ref: https://stackoverflow.com/questions/29370057/select-dataframe-rows-between-two-dates\n",
    "# date_range = (btcdf['Date'] > 2016-01-01) & (df['Date'] <= 2021-08-01)\n",
    "mask = (data['CompletionDate'] > start_date) & (data['CompletionDate'] <= end_date )\n",
    "# mask2 = (xmrdf['Date'] > start_date) & (xmrdf['Date'] <= end_date )"
   ]
  },
  {
   "cell_type": "code",
   "execution_count": null,
   "metadata": {},
   "outputs": [
    {
     "name": "stdout",
     "output_type": "stream",
     "text": [
      "      Index        NCTId                                          Condition  \\\n",
      "2         3  NCT04759092                                  Alzheimer Disease   \n",
      "5         6  NCT02266121  Relapsing Remitting Multiple Sclerosis|Seconda...   \n",
      "35       36  NCT04599764  Transcranial Direct Current Stimulation|Functi...   \n",
      "44       45  NCT04799405                          Major Depressive Disorder   \n",
      "48       49  NCT05311982                        Autistic Disorders Spectrum   \n",
      "...     ...          ...                                                ...   \n",
      "1372   1373  NCT02257138  Blasts More Than 20 Percent of Bone Marrow Nuc...   \n",
      "1384   1385  NCT04245657  Breast Cancer|Breast Cancer Female|Breast Canc...   \n",
      "1385   1386  NCT03369613                          Primary Cervical Dystonia   \n",
      "1388   1389  NCT03738800                                Lamellar Ichthyosis   \n",
      "1389   1390  NCT01866111                                   Partial Epilepsy   \n",
      "\n",
      "                                          OfficialTitle  \\\n",
      "2     A Four Month Home Based tDCS Study on Patients...   \n",
      "5     Improving Cognitive Aptitudes With tDCS in Pat...   \n",
      "35    High Definition Transcranial Direct Current St...   \n",
      "44    Supervised Home-based Transcranial Direct Curr...   \n",
      "48    Transcranial Direct Current Stimulation Modula...   \n",
      "...                                                 ...   \n",
      "1372  Phase I/II Study of Ruxolitinib Plus Decitabin...   \n",
      "1384  Investigation of the Factors of Hang-Grip Stre...   \n",
      "1385  Transcranial Electrical Stimulation (tES) for ...   \n",
      "1388  A Phase 2 Randomized, Multicenter, Double-blin...   \n",
      "1389  A Multicenter, Double-Blind, Randomized, Place...   \n",
      "\n",
      "                                             BriefTitle     Acronym  \\\n",
      "2     A Four Month Home Based tDCS Study on Patients...        tDCS   \n",
      "5     Improving Cognitive Aptitudes With tDCS in Pat...  MScog-tDCS   \n",
      "35    High Definition Transcranial Direct Current St...     HD-tDCS   \n",
      "44         Home-based tDCS in Major Depressive Disorder    MoodStim   \n",
      "48    Transcranial Direct Current Stimulation in Aut...   TDCSinASD   \n",
      "...                                                 ...         ...   \n",
      "1372  Ruxolitinib Phosphate and Decitabine in Treati...         NaN   \n",
      "1384  Factors Affecting Functionality in Breast Canc...         NaN   \n",
      "1385  Transcranial Electrical Stimulation for Cervic...         NaN   \n",
      "1388  A Safety, Efficacy and Systemic Exposure Study...         NaN   \n",
      "1389  A Double-Blind, Randomized, Placebo-Controlled...         NaN   \n",
      "\n",
      "           StudyType                                   InterventionType  \\\n",
      "2     Interventional                                             Device   \n",
      "5     Interventional                                             Device   \n",
      "35    Interventional                                        Other|Other   \n",
      "44    Interventional                                             Device   \n",
      "48    Interventional                               Device|Device|Device   \n",
      "...              ...                                                ...   \n",
      "1372  Interventional                                    Drug|Other|Drug   \n",
      "1384   Observational  Other|Other|Other|Other|Other|Other|Other|Othe...   \n",
      "1385  Interventional                                             Device   \n",
      "1388  Interventional                                     Drug|Drug|Drug   \n",
      "1389  Interventional                                          Drug|Drug   \n",
      "\n",
      "                                       InterventionName  \\\n",
      "2        transcranial direct current stimulation (tDCS)   \n",
      "5                                                  tDCS   \n",
      "35            HD-tDCS|computer-based cognitive training   \n",
      "44                                                 tDCS   \n",
      "48    DLPFC-R (F4) TDCS|DLPFC-L (F3) and DLPFC-R (F4...   \n",
      "...                                                 ...   \n",
      "1372  Decitabine|Laboratory Biomarker Analysis|Ruxol...   \n",
      "1384  Tissue Dielectric Constant Measurement|Muscle ...   \n",
      "1385                transcranial electrical stimulation   \n",
      "1388  CD5789 Cream 200 µg/g|CD5789 Cream 100 µg/g|CD...   \n",
      "1389                                    YKP3089|Placebo   \n",
      "\n",
      "                                  InterventionOtherName  ...  \\\n",
      "2                                                  tDCS  ...   \n",
      "5                                                   NaN  ...   \n",
      "35                                                  NaN  ...   \n",
      "44       Transcranial direct current stimulation (tDCS)  ...   \n",
      "48                                            nibs|NIBS  ...   \n",
      "...                                                 ...  ...   \n",
      "1372  5-Aza-2'-deoxycytidine|Aza-TdC|Dacogen|Decitab...  ...   \n",
      "1384                                                NaN  ...   \n",
      "1385                                                NaN  ...   \n",
      "1388                                                NaN  ...   \n",
      "1389                                                NaN  ...   \n",
      "\n",
      "                                OtherOutcomeDescription  \\\n",
      "2                                                   NaN   \n",
      "5                                                   NaN   \n",
      "35    The changes in DST will constitute the other r...   \n",
      "44                                                  NaN   \n",
      "48                                                  NaN   \n",
      "...                                                 ...   \n",
      "1372                                                NaN   \n",
      "1384                                                NaN   \n",
      "1385                                                NaN   \n",
      "1388  The Ectropion Severity Score (ESS), is a prove...   \n",
      "1389                                                NaN   \n",
      "\n",
      "                                  OtherOutcomeTimeFrame  \\\n",
      "2                                                   NaN   \n",
      "5                                                   NaN   \n",
      "35    changes from baseline at 14 days and 4,12 week...   \n",
      "44                                                  NaN   \n",
      "48                                                  NaN   \n",
      "...                                                 ...   \n",
      "1372                                                NaN   \n",
      "1384                                                NaN   \n",
      "1385                                                NaN   \n",
      "1388  180 Days|180 Days|180 Days|180 Days|180 Days|1...   \n",
      "1389                                                NaN   \n",
      "\n",
      "                                    EligibilityCriteria  \\\n",
      "2     Inclusion Criteria:||Age 60-85.|Fulfil diagnos...   \n",
      "5     Inclusion Criteria:||MS patients with relapsin...   \n",
      "35    Inclusion Criteria:||Subject diagnosed with ea...   \n",
      "44    Patients meeting one of the following criteria...   \n",
      "48    Inclusion Criteria:||Patients with ASD reporte...   \n",
      "...                                                 ...   \n",
      "1372  Inclusion Criteria:||Diagnosis of AML (World H...   \n",
      "1384  Inclusion Criteria:||Being aged between 25 and...   \n",
      "1385  Primary Cervical Dystonia||Inclusion Criteria:...   \n",
      "1388  For Cohort A: subject is ≥18 years old; for Co...   \n",
      "1389  Inclusion Criteria:||Weight at least 40 kg|A d...   \n",
      "\n",
      "                                        StudyPopulation  \\\n",
      "2                                                   NaN   \n",
      "5                                                   NaN   \n",
      "35                                                  NaN   \n",
      "44                                                  NaN   \n",
      "48                                                  NaN   \n",
      "...                                                 ...   \n",
      "1372                                                NaN   \n",
      "1384  Female Breast cancer survivors aged 25-65 year...   \n",
      "1385                                                NaN   \n",
      "1388                                                NaN   \n",
      "1389                                                NaN   \n",
      "\n",
      "               HealthyVolunteers  \\\n",
      "2                             No   \n",
      "5     Accepts Healthy Volunteers   \n",
      "35                            No   \n",
      "44                            No   \n",
      "48                            No   \n",
      "...                          ...   \n",
      "1372                          No   \n",
      "1384                          No   \n",
      "1385  Accepts Healthy Volunteers   \n",
      "1388                          No   \n",
      "1389                          No   \n",
      "\n",
      "                                          ReferencePMID  \\\n",
      "2                                                   NaN   \n",
      "5                                                   NaN   \n",
      "35                                                  NaN   \n",
      "44                  31005790|28709880|27056623|35185515   \n",
      "48                                                  NaN   \n",
      "...                                                 ...   \n",
      "1372                                                NaN   \n",
      "1384  19248047|22294757|8636727|15779870|20373044|25...   \n",
      "1385                                                NaN   \n",
      "1388                                                NaN   \n",
      "1389                         33662894|31734103|25769377   \n",
      "\n",
      "                                           LocationCity  \\\n",
      "2                                                Tromsø   \n",
      "5                                                 Yvoir   \n",
      "35                                                Hefei   \n",
      "44                                               Boston   \n",
      "48                             João Pessoa,|João Pessoa   \n",
      "...                                                 ...   \n",
      "1372                                            Houston   \n",
      "1384                                              İzmir   \n",
      "1385                                             Aurora   \n",
      "1388  San Diego|Aurora|New Haven|Skokie|Indianapolis...   \n",
      "1389  Phoenix|Little Rock|Anaheim|Fresno|Los Angeles...   \n",
      "\n",
      "                                          LocationState  \\\n",
      "2                                                 Troms   \n",
      "5                                                 Namur   \n",
      "35                                                Anhui   \n",
      "44                                        Massachusetts   \n",
      "48                                      Paraiba|Paraíba   \n",
      "...                                                 ...   \n",
      "1372                                              Texas   \n",
      "1384                                              Çiğli   \n",
      "1385                                           Colorado   \n",
      "1388  California|Colorado|Connecticut|Illinois|India...   \n",
      "1389  Arizona|Arkansas|California|California|Califor...   \n",
      "\n",
      "                                       LocationFacility  \\\n",
      "2                   University Hospital of North Norway   \n",
      "5     Department of Neurology, CHU Dinant Godinne Uc...   \n",
      "35                             Anhui Medical University   \n",
      "44    Hinda and Arthur Marcus Institute for Aging Re...   \n",
      "48    Federal University of Paraíba,Department of Ps...   \n",
      "...                                                 ...   \n",
      "1372                         M D Anderson Cancer Center   \n",
      "1384                İzmir Çiğli State Training Hospital   \n",
      "1385                      University of Colorado Denver   \n",
      "1388  TCR Medical Corporation|Children's Hospital Co...   \n",
      "1389  St. Joseph's Hospital and Medical Center - Bar...   \n",
      "\n",
      "                                                   link  \n",
      "2     https://www.clinicaltrials.gov/ct2/show/record...  \n",
      "5     https://www.clinicaltrials.gov/ct2/show/record...  \n",
      "35    https://www.clinicaltrials.gov/ct2/show/record...  \n",
      "44    https://www.clinicaltrials.gov/ct2/show/record...  \n",
      "48    https://www.clinicaltrials.gov/ct2/show/record...  \n",
      "...                                                 ...  \n",
      "1372  https://www.clinicaltrials.gov/ct2/show/record...  \n",
      "1384  https://www.clinicaltrials.gov/ct2/show/record...  \n",
      "1385  https://www.clinicaltrials.gov/ct2/show/record...  \n",
      "1388  https://www.clinicaltrials.gov/ct2/show/record...  \n",
      "1389  https://www.clinicaltrials.gov/ct2/show/record...  \n",
      "\n",
      "[113 rows x 40 columns]\n"
     ]
    }
   ],
   "source": [
    "print(data[mask])"
   ]
  },
  {
   "cell_type": "markdown",
   "metadata": {},
   "source": [
    "232 - for 2021"
   ]
  },
  {
   "cell_type": "markdown",
   "metadata": {},
   "source": []
  },
  {
   "cell_type": "code",
   "execution_count": null,
   "metadata": {},
   "outputs": [
    {
     "data": {
      "text/plain": [
       "Early Phase 1        12\n",
       "Phase 1              35\n",
       "Phase 1|Phase 2      38\n",
       "Phase 2              93\n",
       "Phase 2|Phase 3      35\n",
       "Phase 3Phase 4        0\n",
       "Not Applicable     1104\n",
       "Name: Phase, dtype: int64"
      ]
     },
     "execution_count": 92,
     "metadata": {},
     "output_type": "execute_result"
    }
   ],
   "source": [
    "data['Phase'].value_counts().reindex(['Early Phase 1' ,'Phase 1','Phase 1|Phase 2','Phase 2', 'Phase 2|Phase 3','Phase 3' 'Phase 4', 'Not Applicable' ], fill_value=0)"
   ]
  },
  {
   "cell_type": "markdown",
   "metadata": {},
   "source": []
  },
  {
   "cell_type": "markdown",
   "metadata": {},
   "source": [
    "Now we also have a mask - we can can look at the last years - what was closed out ( need better null processing ( or blanks))"
   ]
  },
  {
   "cell_type": "code",
   "execution_count": null,
   "metadata": {},
   "outputs": [
    {
     "data": {
      "text/plain": [
       "Early Phase 1         0\n",
       "Phase 1               1\n",
       "Phase 1 | Phase 2     0\n",
       "Phase 2               4\n",
       "Phase 2 | Phase 3     0\n",
       "Phase 3Phase 4        0\n",
       "Not Applicable       90\n",
       "Name: Phase, dtype: int64"
      ]
     },
     "execution_count": 93,
     "metadata": {},
     "output_type": "execute_result"
    }
   ],
   "source": [
    "data[mask]['Phase'].value_counts().reindex(['Early Phase 1' ,'Phase 1','Phase 1 | Phase 2','Phase 2', 'Phase 2 | Phase 3','Phase 3' 'Phase 4', 'Not Applicable' ], fill_value=0)\n",
    "\n"
   ]
  },
  {
   "cell_type": "markdown",
   "metadata": {},
   "source": [
    "lets mask - and only look at last 2 years   \n"
   ]
  },
  {
   "cell_type": "markdown",
   "metadata": {},
   "source": [
    "manually checked - the data match ( 3 early phase 1 - 2020 / 2021)"
   ]
  },
  {
   "cell_type": "markdown",
   "metadata": {},
   "source": [
    "Lets look at Intervational study only\n"
   ]
  },
  {
   "cell_type": "code",
   "execution_count": null,
   "metadata": {},
   "outputs": [
    {
     "data": {
      "text/plain": [
       "Interventional     111\n",
       "Observational        2\n",
       "Expanded Access      0\n",
       "Name: StudyType, dtype: int64"
      ]
     },
     "execution_count": 94,
     "metadata": {},
     "output_type": "execute_result"
    }
   ],
   "source": [
    "data[mask]['StudyType'].value_counts().reindex(['Interventional' ,'Observational','Expanded Access' ], fill_value=0)\n"
   ]
  },
  {
   "cell_type": "code",
   "execution_count": null,
   "metadata": {},
   "outputs": [],
   "source": [
    "studydf = data.copy()"
   ]
  },
  {
   "cell_type": "code",
   "execution_count": null,
   "metadata": {},
   "outputs": [
    {
     "data": {
      "text/plain": [
       "(1398, 40)"
      ]
     },
     "execution_count": 96,
     "metadata": {},
     "output_type": "execute_result"
    }
   ],
   "source": [
    "studydf.shape"
   ]
  },
  {
   "cell_type": "markdown",
   "metadata": {},
   "source": [
    "now I have all interventional"
   ]
  },
  {
   "cell_type": "code",
   "execution_count": null,
   "metadata": {},
   "outputs": [],
   "source": [
    "studydf.drop(studydf[studydf['StudyType'] !=  \"Interventional\"].index, inplace = True)"
   ]
  },
  {
   "cell_type": "code",
   "execution_count": null,
   "metadata": {},
   "outputs": [
    {
     "data": {
      "text/plain": [
       "(1350, 40)"
      ]
     },
     "execution_count": 98,
     "metadata": {},
     "output_type": "execute_result"
    }
   ],
   "source": [
    "studydf.shape"
   ]
  },
  {
   "cell_type": "code",
   "execution_count": null,
   "metadata": {},
   "outputs": [
    {
     "data": {
      "text/plain": [
       "Index                                   int64\n",
       "NCTId                                  object\n",
       "Condition                              object\n",
       "OfficialTitle                          object\n",
       "BriefTitle                             object\n",
       "Acronym                                object\n",
       "StudyType                              object\n",
       "InterventionType                       object\n",
       "InterventionName                       object\n",
       "InterventionOtherName                  object\n",
       "InterventionDescription                object\n",
       "Phase                                  object\n",
       "StudyFirstSubmitDate           datetime64[ns]\n",
       "LastUpdateSubmitDate           datetime64[ns]\n",
       "CompletionDate                 datetime64[ns]\n",
       "OverallStatus                          object\n",
       "BaselineMeasureTitle                   object\n",
       "BaselineMeasureDescription             object\n",
       "BaselineMeasurementValue               object\n",
       "BriefSummary                           object\n",
       "IsFDARegulatedDrug                     object\n",
       "IsFDARegulatedDevice                   object\n",
       "IsUnapprovedDevice                     object\n",
       "PrimaryOutcomeMeasure                  object\n",
       "PrimaryOutcomeDescription              object\n",
       "PrimaryOutcomeTimeFrame                object\n",
       "SecondaryOutcomeMeasure                object\n",
       "SecondaryOutcomeDescription            object\n",
       "SecondaryOutcomeTimeFrame              object\n",
       "OtherOutcomeMeasure                    object\n",
       "OtherOutcomeDescription                object\n",
       "OtherOutcomeTimeFrame                  object\n",
       "EligibilityCriteria                    object\n",
       "StudyPopulation                        object\n",
       "HealthyVolunteers                      object\n",
       "ReferencePMID                          object\n",
       "LocationCity                           object\n",
       "LocationState                          object\n",
       "LocationFacility                       object\n",
       "link                                   object\n",
       "dtype: object"
      ]
     },
     "execution_count": 99,
     "metadata": {},
     "output_type": "execute_result"
    }
   ],
   "source": [
    "studydf.dtypes"
   ]
  },
  {
   "cell_type": "code",
   "execution_count": null,
   "metadata": {},
   "outputs": [],
   "source": [
    "# studydf"
   ]
  },
  {
   "cell_type": "code",
   "execution_count": null,
   "metadata": {},
   "outputs": [],
   "source": [
    "studydf['StudyFirstSubmitDate']= pd.to_datetime(studydf['StudyFirstSubmitDate'])\n",
    "studydf['LastUpdateSubmitDate']= pd.to_datetime(studydf['LastUpdateSubmitDate'])\n",
    "studydf['CompletionDate']= pd.to_datetime(studydf['CompletionDate'])\n"
   ]
  },
  {
   "cell_type": "code",
   "execution_count": null,
   "metadata": {},
   "outputs": [],
   "source": [
    "# studydf.dtypes"
   ]
  },
  {
   "cell_type": "code",
   "execution_count": null,
   "metadata": {},
   "outputs": [],
   "source": [
    "start_date = '2021-01-01'\n",
    "end_date = '2021-12-01'\n",
    "# ref: https://stackoverflow.com/questions/29370057/select-dataframe-rows-between-two-dates\n",
    "# date_range = (btcdf['Date'] > 2016-01-01) & (df['Date'] <= 2021-08-01)\n",
    "mask2 = (studydf['StudyFirstSubmitDate'] > start_date) & (studydf['StudyFirstSubmitDate'] <= end_date )\n",
    "# mask2 = (xmrdf['Date'] > start_date) & (xmrdf['Date'] <= end_date )"
   ]
  },
  {
   "cell_type": "code",
   "execution_count": null,
   "metadata": {},
   "outputs": [],
   "source": [
    "# studydf.dtypes"
   ]
  },
  {
   "cell_type": "code",
   "execution_count": null,
   "metadata": {},
   "outputs": [
    {
     "data": {
      "text/plain": [
       "(128, 40)"
      ]
     },
     "execution_count": 105,
     "metadata": {},
     "output_type": "execute_result"
    }
   ],
   "source": [
    "studydf[mask2].shape"
   ]
  },
  {
   "cell_type": "markdown",
   "metadata": {},
   "source": [
    "Results of Interventional Studies"
   ]
  },
  {
   "cell_type": "code",
   "execution_count": null,
   "metadata": {},
   "outputs": [],
   "source": []
  },
  {
   "cell_type": "code",
   "execution_count": null,
   "metadata": {},
   "outputs": [
    {
     "data": {
      "text/html": [
       "<div>\n",
       "<style scoped>\n",
       "    .dataframe tbody tr th:only-of-type {\n",
       "        vertical-align: middle;\n",
       "    }\n",
       "\n",
       "    .dataframe tbody tr th {\n",
       "        vertical-align: top;\n",
       "    }\n",
       "\n",
       "    .dataframe thead th {\n",
       "        text-align: right;\n",
       "    }\n",
       "</style>\n",
       "<table border=\"1\" class=\"dataframe\">\n",
       "  <thead>\n",
       "    <tr style=\"text-align: right;\">\n",
       "      <th></th>\n",
       "      <th>Index</th>\n",
       "      <th>NCTId</th>\n",
       "      <th>Condition</th>\n",
       "      <th>OfficialTitle</th>\n",
       "      <th>BriefTitle</th>\n",
       "      <th>Acronym</th>\n",
       "      <th>StudyType</th>\n",
       "      <th>InterventionType</th>\n",
       "      <th>InterventionName</th>\n",
       "      <th>InterventionOtherName</th>\n",
       "      <th>...</th>\n",
       "      <th>OtherOutcomeDescription</th>\n",
       "      <th>OtherOutcomeTimeFrame</th>\n",
       "      <th>EligibilityCriteria</th>\n",
       "      <th>StudyPopulation</th>\n",
       "      <th>HealthyVolunteers</th>\n",
       "      <th>ReferencePMID</th>\n",
       "      <th>LocationCity</th>\n",
       "      <th>LocationState</th>\n",
       "      <th>LocationFacility</th>\n",
       "      <th>link</th>\n",
       "    </tr>\n",
       "  </thead>\n",
       "  <tbody>\n",
       "    <tr>\n",
       "      <th>2</th>\n",
       "      <td>3</td>\n",
       "      <td>NCT04759092</td>\n",
       "      <td>Alzheimer Disease</td>\n",
       "      <td>A Four Month Home Based tDCS Study on Patients...</td>\n",
       "      <td>A Four Month Home Based tDCS Study on Patients...</td>\n",
       "      <td>tDCS</td>\n",
       "      <td>Interventional</td>\n",
       "      <td>Device</td>\n",
       "      <td>transcranial direct current stimulation (tDCS)</td>\n",
       "      <td>tDCS</td>\n",
       "      <td>...</td>\n",
       "      <td>NaN</td>\n",
       "      <td>NaN</td>\n",
       "      <td>Inclusion Criteria:||Age 60-85.|Fulfil diagnos...</td>\n",
       "      <td>NaN</td>\n",
       "      <td>No</td>\n",
       "      <td>NaN</td>\n",
       "      <td>Tromsø</td>\n",
       "      <td>Troms</td>\n",
       "      <td>University Hospital of North Norway</td>\n",
       "      <td>https://www.clinicaltrials.gov/ct2/show/record...</td>\n",
       "    </tr>\n",
       "    <tr>\n",
       "      <th>40</th>\n",
       "      <td>41</td>\n",
       "      <td>NCT05285124</td>\n",
       "      <td>Disorder of Consciousness</td>\n",
       "      <td>Effect and Mechanism of HD-tDCS Combined With ...</td>\n",
       "      <td>HD-tDCS Combined With Circadian Rhythm Reconst...</td>\n",
       "      <td>HD-tDCS</td>\n",
       "      <td>Interventional</td>\n",
       "      <td>Drug|Other</td>\n",
       "      <td>Melatonin|Placebo</td>\n",
       "      <td>HD-tDCS|HD-tDCS</td>\n",
       "      <td>...</td>\n",
       "      <td>NaN</td>\n",
       "      <td>NaN</td>\n",
       "      <td>Inclusion Criteria:||Patients with diagnosis o...</td>\n",
       "      <td>NaN</td>\n",
       "      <td>No</td>\n",
       "      <td>NaN</td>\n",
       "      <td>Hanzhou</td>\n",
       "      <td>Zhejiang</td>\n",
       "      <td>First Affiliated Hospital,Zhejiang University</td>\n",
       "      <td>https://www.clinicaltrials.gov/ct2/show/record...</td>\n",
       "    </tr>\n",
       "    <tr>\n",
       "      <th>43</th>\n",
       "      <td>44</td>\n",
       "      <td>NCT04990375</td>\n",
       "      <td>Active tDCS|Sham tDCS</td>\n",
       "      <td>Placebo-controlled Randomized Clinical Trial: ...</td>\n",
       "      <td>tDCS to Prevent Relapse in Alcohol Use Disorder</td>\n",
       "      <td>NaN</td>\n",
       "      <td>Interventional</td>\n",
       "      <td>Device</td>\n",
       "      <td>tDCS</td>\n",
       "      <td>NaN</td>\n",
       "      <td>...</td>\n",
       "      <td>NaN</td>\n",
       "      <td>NaN</td>\n",
       "      <td>Inclusion Criteria:||French speaker|Severe Alc...</td>\n",
       "      <td>NaN</td>\n",
       "      <td>No</td>\n",
       "      <td>NaN</td>\n",
       "      <td>Brussels</td>\n",
       "      <td>NaN</td>\n",
       "      <td>CHU-Brugmann</td>\n",
       "      <td>https://www.clinicaltrials.gov/ct2/show/record...</td>\n",
       "    </tr>\n",
       "    <tr>\n",
       "      <th>44</th>\n",
       "      <td>45</td>\n",
       "      <td>NCT04799405</td>\n",
       "      <td>Major Depressive Disorder</td>\n",
       "      <td>Supervised Home-based Transcranial Direct Curr...</td>\n",
       "      <td>Home-based tDCS in Major Depressive Disorder</td>\n",
       "      <td>MoodStim</td>\n",
       "      <td>Interventional</td>\n",
       "      <td>Device</td>\n",
       "      <td>tDCS</td>\n",
       "      <td>Transcranial direct current stimulation (tDCS)</td>\n",
       "      <td>...</td>\n",
       "      <td>NaN</td>\n",
       "      <td>NaN</td>\n",
       "      <td>Patients meeting one of the following criteria...</td>\n",
       "      <td>NaN</td>\n",
       "      <td>No</td>\n",
       "      <td>31005790|28709880|27056623|35185515</td>\n",
       "      <td>Boston</td>\n",
       "      <td>Massachusetts</td>\n",
       "      <td>Hinda and Arthur Marcus Institute for Aging Re...</td>\n",
       "      <td>https://www.clinicaltrials.gov/ct2/show/record...</td>\n",
       "    </tr>\n",
       "    <tr>\n",
       "      <th>132</th>\n",
       "      <td>133</td>\n",
       "      <td>NCT04876417</td>\n",
       "      <td>Post Covid-19 Patients</td>\n",
       "      <td>Transcranial Direct Current Stimulation (tDCS)...</td>\n",
       "      <td>tDCS for Post COVID-19 Fatigue</td>\n",
       "      <td>NaN</td>\n",
       "      <td>Interventional</td>\n",
       "      <td>Device|Device</td>\n",
       "      <td>Transcranial Direct Current Stimulation|Transc...</td>\n",
       "      <td>tDCS|tDCS</td>\n",
       "      <td>...</td>\n",
       "      <td>NaN</td>\n",
       "      <td>NaN</td>\n",
       "      <td>Only those that are discharged from the UIHC C...</td>\n",
       "      <td>NaN</td>\n",
       "      <td>No</td>\n",
       "      <td>NaN</td>\n",
       "      <td>Iowa City</td>\n",
       "      <td>Iowa</td>\n",
       "      <td>Department of Health and Human Physiology</td>\n",
       "      <td>https://www.clinicaltrials.gov/ct2/show/record...</td>\n",
       "    </tr>\n",
       "    <tr>\n",
       "      <th>...</th>\n",
       "      <td>...</td>\n",
       "      <td>...</td>\n",
       "      <td>...</td>\n",
       "      <td>...</td>\n",
       "      <td>...</td>\n",
       "      <td>...</td>\n",
       "      <td>...</td>\n",
       "      <td>...</td>\n",
       "      <td>...</td>\n",
       "      <td>...</td>\n",
       "      <td>...</td>\n",
       "      <td>...</td>\n",
       "      <td>...</td>\n",
       "      <td>...</td>\n",
       "      <td>...</td>\n",
       "      <td>...</td>\n",
       "      <td>...</td>\n",
       "      <td>...</td>\n",
       "      <td>...</td>\n",
       "      <td>...</td>\n",
       "      <td>...</td>\n",
       "    </tr>\n",
       "    <tr>\n",
       "      <th>1338</th>\n",
       "      <td>1339</td>\n",
       "      <td>NCT05212636</td>\n",
       "      <td>Depressive Disorder, Major</td>\n",
       "      <td>Using Repetitive Transcranial Magnetic Stimula...</td>\n",
       "      <td>Using Repetitive Transcranial Magnetic Stimula...</td>\n",
       "      <td>NaN</td>\n",
       "      <td>Interventional</td>\n",
       "      <td>Device</td>\n",
       "      <td>Repetitive transcranial magnetic stimulation (...</td>\n",
       "      <td>Antidepressants</td>\n",
       "      <td>...</td>\n",
       "      <td>NaN</td>\n",
       "      <td>NaN</td>\n",
       "      <td>Inclusion Criteria:||meet the DSM-5 diagnostic...</td>\n",
       "      <td>NaN</td>\n",
       "      <td>No</td>\n",
       "      <td>NaN</td>\n",
       "      <td>Tainan</td>\n",
       "      <td>NaN</td>\n",
       "      <td>National Cheng-Kung University</td>\n",
       "      <td>https://www.clinicaltrials.gov/ct2/show/record...</td>\n",
       "    </tr>\n",
       "    <tr>\n",
       "      <th>1346</th>\n",
       "      <td>1347</td>\n",
       "      <td>NCT04891562</td>\n",
       "      <td>Developmental Coordination Disorder</td>\n",
       "      <td>Rhythmic Interlimb Coordination in Children Wi...</td>\n",
       "      <td>Rhythmic Interlimb Coordination in Children Wi...</td>\n",
       "      <td>NaN</td>\n",
       "      <td>Interventional</td>\n",
       "      <td>Other</td>\n",
       "      <td>interlimb coordination of the lower limbs and ...</td>\n",
       "      <td>NaN</td>\n",
       "      <td>...</td>\n",
       "      <td>NaN</td>\n",
       "      <td>NaN</td>\n",
       "      <td>Inclusion Criteria:||are aged between 8-12 yea...</td>\n",
       "      <td>NaN</td>\n",
       "      <td>Accepts Healthy Volunteers</td>\n",
       "      <td>NaN</td>\n",
       "      <td>Hasselt</td>\n",
       "      <td>NaN</td>\n",
       "      <td>Hasselt University</td>\n",
       "      <td>https://www.clinicaltrials.gov/ct2/show/record...</td>\n",
       "    </tr>\n",
       "    <tr>\n",
       "      <th>1364</th>\n",
       "      <td>1365</td>\n",
       "      <td>NCT05077826</td>\n",
       "      <td>Alzheimer Disease|Mild Cognitive Impairment</td>\n",
       "      <td>Modern Energetic Methods of Response Improveme...</td>\n",
       "      <td>Enhancing Memory in Mild Cognitive Impairment ...</td>\n",
       "      <td>MEMORI</td>\n",
       "      <td>Interventional</td>\n",
       "      <td>Device</td>\n",
       "      <td>North Coast Medical Activadose II</td>\n",
       "      <td>NaN</td>\n",
       "      <td>...</td>\n",
       "      <td>NaN</td>\n",
       "      <td>NaN</td>\n",
       "      <td>Inclusion Criteria:||Inclusion criteria for he...</td>\n",
       "      <td>NaN</td>\n",
       "      <td>Accepts Healthy Volunteers</td>\n",
       "      <td>NaN</td>\n",
       "      <td>Albuquerque</td>\n",
       "      <td>New Mexico</td>\n",
       "      <td>Mind Research Network</td>\n",
       "      <td>https://www.clinicaltrials.gov/ct2/show/record...</td>\n",
       "    </tr>\n",
       "    <tr>\n",
       "      <th>1387</th>\n",
       "      <td>1388</td>\n",
       "      <td>NCT05085210</td>\n",
       "      <td>Visual Field Defect, Peripheral|Stroke|Visual ...</td>\n",
       "      <td>Visual Restoration of Losses Caused by Cortica...</td>\n",
       "      <td>Improving Visual Field Deficits With Noninvasi...</td>\n",
       "      <td>NaN</td>\n",
       "      <td>Interventional</td>\n",
       "      <td>Device|Behavioral|Device</td>\n",
       "      <td>transcranial random noise stimulation (tRNS)|C...</td>\n",
       "      <td>NaN</td>\n",
       "      <td>...</td>\n",
       "      <td>NaN</td>\n",
       "      <td>NaN</td>\n",
       "      <td>Inclusion Criteria:||18 years of age or older,...</td>\n",
       "      <td>NaN</td>\n",
       "      <td>No</td>\n",
       "      <td>12364731|31120142|2940735|3526649|16820528|266...</td>\n",
       "      <td>Boston</td>\n",
       "      <td>Massachusetts</td>\n",
       "      <td>Beth Israel Deaconess Medical Center</td>\n",
       "      <td>https://www.clinicaltrials.gov/ct2/show/record...</td>\n",
       "    </tr>\n",
       "    <tr>\n",
       "      <th>1392</th>\n",
       "      <td>1393</td>\n",
       "      <td>NCT05256238</td>\n",
       "      <td>Head and Neck Cancer</td>\n",
       "      <td>Improving Health-related Quality of Life of He...</td>\n",
       "      <td>Effect of Exercise in Head and Neck Cancer Pat...</td>\n",
       "      <td>EffEx-HN</td>\n",
       "      <td>Interventional</td>\n",
       "      <td>Other</td>\n",
       "      <td>comprehensive supervised exercise program (CSEP)</td>\n",
       "      <td>NaN</td>\n",
       "      <td>...</td>\n",
       "      <td>•Acceptance of the invitation to participate (...</td>\n",
       "      <td>baseline|baseline, 12 weeks and/or 6 months|ba...</td>\n",
       "      <td>Inclusion Criteria:||Patients ≥ 18 years|Diagn...</td>\n",
       "      <td>NaN</td>\n",
       "      <td>No</td>\n",
       "      <td>NaN</td>\n",
       "      <td>Leuven</td>\n",
       "      <td>NaN</td>\n",
       "      <td>University Hospital Leuven</td>\n",
       "      <td>https://www.clinicaltrials.gov/ct2/show/record...</td>\n",
       "    </tr>\n",
       "  </tbody>\n",
       "</table>\n",
       "<p>128 rows × 40 columns</p>\n",
       "</div>"
      ],
      "text/plain": [
       "      Index        NCTId                                          Condition  \\\n",
       "2         3  NCT04759092                                  Alzheimer Disease   \n",
       "40       41  NCT05285124                          Disorder of Consciousness   \n",
       "43       44  NCT04990375                              Active tDCS|Sham tDCS   \n",
       "44       45  NCT04799405                          Major Depressive Disorder   \n",
       "132     133  NCT04876417                             Post Covid-19 Patients   \n",
       "...     ...          ...                                                ...   \n",
       "1338   1339  NCT05212636                         Depressive Disorder, Major   \n",
       "1346   1347  NCT04891562                Developmental Coordination Disorder   \n",
       "1364   1365  NCT05077826        Alzheimer Disease|Mild Cognitive Impairment   \n",
       "1387   1388  NCT05085210  Visual Field Defect, Peripheral|Stroke|Visual ...   \n",
       "1392   1393  NCT05256238                               Head and Neck Cancer   \n",
       "\n",
       "                                          OfficialTitle  \\\n",
       "2     A Four Month Home Based tDCS Study on Patients...   \n",
       "40    Effect and Mechanism of HD-tDCS Combined With ...   \n",
       "43    Placebo-controlled Randomized Clinical Trial: ...   \n",
       "44    Supervised Home-based Transcranial Direct Curr...   \n",
       "132   Transcranial Direct Current Stimulation (tDCS)...   \n",
       "...                                                 ...   \n",
       "1338  Using Repetitive Transcranial Magnetic Stimula...   \n",
       "1346  Rhythmic Interlimb Coordination in Children Wi...   \n",
       "1364  Modern Energetic Methods of Response Improveme...   \n",
       "1387  Visual Restoration of Losses Caused by Cortica...   \n",
       "1392  Improving Health-related Quality of Life of He...   \n",
       "\n",
       "                                             BriefTitle   Acronym  \\\n",
       "2     A Four Month Home Based tDCS Study on Patients...      tDCS   \n",
       "40    HD-tDCS Combined With Circadian Rhythm Reconst...   HD-tDCS   \n",
       "43      tDCS to Prevent Relapse in Alcohol Use Disorder       NaN   \n",
       "44         Home-based tDCS in Major Depressive Disorder  MoodStim   \n",
       "132                      tDCS for Post COVID-19 Fatigue       NaN   \n",
       "...                                                 ...       ...   \n",
       "1338  Using Repetitive Transcranial Magnetic Stimula...       NaN   \n",
       "1346  Rhythmic Interlimb Coordination in Children Wi...       NaN   \n",
       "1364  Enhancing Memory in Mild Cognitive Impairment ...    MEMORI   \n",
       "1387  Improving Visual Field Deficits With Noninvasi...       NaN   \n",
       "1392  Effect of Exercise in Head and Neck Cancer Pat...  EffEx-HN   \n",
       "\n",
       "           StudyType          InterventionType  \\\n",
       "2     Interventional                    Device   \n",
       "40    Interventional                Drug|Other   \n",
       "43    Interventional                    Device   \n",
       "44    Interventional                    Device   \n",
       "132   Interventional             Device|Device   \n",
       "...              ...                       ...   \n",
       "1338  Interventional                    Device   \n",
       "1346  Interventional                     Other   \n",
       "1364  Interventional                    Device   \n",
       "1387  Interventional  Device|Behavioral|Device   \n",
       "1392  Interventional                     Other   \n",
       "\n",
       "                                       InterventionName  \\\n",
       "2        transcranial direct current stimulation (tDCS)   \n",
       "40                                    Melatonin|Placebo   \n",
       "43                                                 tDCS   \n",
       "44                                                 tDCS   \n",
       "132   Transcranial Direct Current Stimulation|Transc...   \n",
       "...                                                 ...   \n",
       "1338  Repetitive transcranial magnetic stimulation (...   \n",
       "1346  interlimb coordination of the lower limbs and ...   \n",
       "1364                  North Coast Medical Activadose II   \n",
       "1387  transcranial random noise stimulation (tRNS)|C...   \n",
       "1392   comprehensive supervised exercise program (CSEP)   \n",
       "\n",
       "                               InterventionOtherName  ...  \\\n",
       "2                                               tDCS  ...   \n",
       "40                                   HD-tDCS|HD-tDCS  ...   \n",
       "43                                               NaN  ...   \n",
       "44    Transcranial direct current stimulation (tDCS)  ...   \n",
       "132                                        tDCS|tDCS  ...   \n",
       "...                                              ...  ...   \n",
       "1338                                 Antidepressants  ...   \n",
       "1346                                             NaN  ...   \n",
       "1364                                             NaN  ...   \n",
       "1387                                             NaN  ...   \n",
       "1392                                             NaN  ...   \n",
       "\n",
       "                                OtherOutcomeDescription  \\\n",
       "2                                                   NaN   \n",
       "40                                                  NaN   \n",
       "43                                                  NaN   \n",
       "44                                                  NaN   \n",
       "132                                                 NaN   \n",
       "...                                                 ...   \n",
       "1338                                                NaN   \n",
       "1346                                                NaN   \n",
       "1364                                                NaN   \n",
       "1387                                                NaN   \n",
       "1392  •Acceptance of the invitation to participate (...   \n",
       "\n",
       "                                  OtherOutcomeTimeFrame  \\\n",
       "2                                                   NaN   \n",
       "40                                                  NaN   \n",
       "43                                                  NaN   \n",
       "44                                                  NaN   \n",
       "132                                                 NaN   \n",
       "...                                                 ...   \n",
       "1338                                                NaN   \n",
       "1346                                                NaN   \n",
       "1364                                                NaN   \n",
       "1387                                                NaN   \n",
       "1392  baseline|baseline, 12 weeks and/or 6 months|ba...   \n",
       "\n",
       "                                    EligibilityCriteria StudyPopulation  \\\n",
       "2     Inclusion Criteria:||Age 60-85.|Fulfil diagnos...             NaN   \n",
       "40    Inclusion Criteria:||Patients with diagnosis o...             NaN   \n",
       "43    Inclusion Criteria:||French speaker|Severe Alc...             NaN   \n",
       "44    Patients meeting one of the following criteria...             NaN   \n",
       "132   Only those that are discharged from the UIHC C...             NaN   \n",
       "...                                                 ...             ...   \n",
       "1338  Inclusion Criteria:||meet the DSM-5 diagnostic...             NaN   \n",
       "1346  Inclusion Criteria:||are aged between 8-12 yea...             NaN   \n",
       "1364  Inclusion Criteria:||Inclusion criteria for he...             NaN   \n",
       "1387  Inclusion Criteria:||18 years of age or older,...             NaN   \n",
       "1392  Inclusion Criteria:||Patients ≥ 18 years|Diagn...             NaN   \n",
       "\n",
       "               HealthyVolunteers  \\\n",
       "2                             No   \n",
       "40                            No   \n",
       "43                            No   \n",
       "44                            No   \n",
       "132                           No   \n",
       "...                          ...   \n",
       "1338                          No   \n",
       "1346  Accepts Healthy Volunteers   \n",
       "1364  Accepts Healthy Volunteers   \n",
       "1387                          No   \n",
       "1392                          No   \n",
       "\n",
       "                                          ReferencePMID LocationCity  \\\n",
       "2                                                   NaN       Tromsø   \n",
       "40                                                  NaN      Hanzhou   \n",
       "43                                                  NaN     Brussels   \n",
       "44                  31005790|28709880|27056623|35185515       Boston   \n",
       "132                                                 NaN    Iowa City   \n",
       "...                                                 ...          ...   \n",
       "1338                                                NaN       Tainan   \n",
       "1346                                                NaN      Hasselt   \n",
       "1364                                                NaN  Albuquerque   \n",
       "1387  12364731|31120142|2940735|3526649|16820528|266...       Boston   \n",
       "1392                                                NaN       Leuven   \n",
       "\n",
       "      LocationState                                   LocationFacility  \\\n",
       "2             Troms                University Hospital of North Norway   \n",
       "40         Zhejiang      First Affiliated Hospital,Zhejiang University   \n",
       "43              NaN                                       CHU-Brugmann   \n",
       "44    Massachusetts  Hinda and Arthur Marcus Institute for Aging Re...   \n",
       "132            Iowa          Department of Health and Human Physiology   \n",
       "...             ...                                                ...   \n",
       "1338            NaN                     National Cheng-Kung University   \n",
       "1346            NaN                                 Hasselt University   \n",
       "1364     New Mexico                              Mind Research Network   \n",
       "1387  Massachusetts               Beth Israel Deaconess Medical Center   \n",
       "1392            NaN                         University Hospital Leuven   \n",
       "\n",
       "                                                   link  \n",
       "2     https://www.clinicaltrials.gov/ct2/show/record...  \n",
       "40    https://www.clinicaltrials.gov/ct2/show/record...  \n",
       "43    https://www.clinicaltrials.gov/ct2/show/record...  \n",
       "44    https://www.clinicaltrials.gov/ct2/show/record...  \n",
       "132   https://www.clinicaltrials.gov/ct2/show/record...  \n",
       "...                                                 ...  \n",
       "1338  https://www.clinicaltrials.gov/ct2/show/record...  \n",
       "1346  https://www.clinicaltrials.gov/ct2/show/record...  \n",
       "1364  https://www.clinicaltrials.gov/ct2/show/record...  \n",
       "1387  https://www.clinicaltrials.gov/ct2/show/record...  \n",
       "1392  https://www.clinicaltrials.gov/ct2/show/record...  \n",
       "\n",
       "[128 rows x 40 columns]"
      ]
     },
     "execution_count": 106,
     "metadata": {},
     "output_type": "execute_result"
    }
   ],
   "source": [
    "studydf[mask2]"
   ]
  },
  {
   "cell_type": "code",
   "execution_count": null,
   "metadata": {},
   "outputs": [],
   "source": [
    "# studydf.drop(columns=[0], axis=1, inplace=True)"
   ]
  },
  {
   "cell_type": "code",
   "execution_count": null,
   "metadata": {},
   "outputs": [],
   "source": [
    "studydf.drop(columns=['Index'], inplace=True)\n"
   ]
  },
  {
   "cell_type": "code",
   "execution_count": null,
   "metadata": {},
   "outputs": [],
   "source": [
    "# studydf[mask2].reset_index()\n",
    "studydf[mask2].to_excel(r'2021.xlsx', index=False)"
   ]
  },
  {
   "cell_type": "code",
   "execution_count": null,
   "metadata": {},
   "outputs": [],
   "source": [
    "# studydf"
   ]
  },
  {
   "cell_type": "markdown",
   "metadata": {},
   "source": [
    "for all studies related to from study dataframe ( but you can mask it)"
   ]
  },
  {
   "cell_type": "code",
   "execution_count": null,
   "metadata": {},
   "outputs": [],
   "source": [
    "# # df = df[col].value_counts(ascending=False).reset_index()\n",
    "# studydf.value_counts(ascending=False).reset_index()\n",
    "locations = studydf['LocationCity'].value_counts().reindex()"
   ]
  },
  {
   "cell_type": "code",
   "execution_count": null,
   "metadata": {},
   "outputs": [
    {
     "data": {
      "text/plain": [
       "Boston                                                                                                                                                                                                                                                                                                                                                                                                                                                    39\n",
       "Berlin                                                                                                                                                                                                                                                                                                                                                                                                                                                    37\n",
       "Seoul                                                                                                                                                                                                                                                                                                                                                                                                                                                     35\n",
       "Minneapolis                                                                                                                                                                                                                                                                                                                                                                                                                                               28\n",
       "New York                                                                                                                                                                                                                                                                                                                                                                                                                                                  25\n",
       "                                                                                                                                                                                                                                                                                                                                                                                                                                                          ..\n",
       "Beer-Sheva                                                                                                                                                                                                                                                                                                                                                                                                                                                 1\n",
       "Nonthaburi                                                                                                                                                                                                                                                                                                                                                                                                                                                 1\n",
       "Rome|Rome                                                                                                                                                                                                                                                                                                                                                                                                                                                  1\n",
       "Saint-Genis Laval                                                                                                                                                                                                                                                                                                                                                                                                                                          1\n",
       "San Francisco|Lewes|Newark|Orlando|Atlanta|Chicago|Chicago|Evanston|Fort Wayne|Iowa City|Bangor|Baltimore|Bethesda|Elkton|Boston|Boston|Boston|Worcester|Columbia|Columbia|Saint Louis|North Platte|Omaha|Las Vegas|Las Vegas|Las Vegas|Keene|Lebanon|Camden|Buffalo|Lake Success|Lake Success|Manhasset|New Hyde Park|New York|Syracuse|Chapel Hill|Goldsboro|Winston-Salem|Columbus|Oklahoma City|Pittsburgh|Providence|Providence|Berlin|Burlington     1\n",
       "Name: LocationCity, Length: 441, dtype: int64"
      ]
     },
     "execution_count": 112,
     "metadata": {},
     "output_type": "execute_result"
    }
   ],
   "source": [
    "locations"
   ]
  },
  {
   "cell_type": "markdown",
   "metadata": {},
   "source": [
    "By Intervention Type"
   ]
  },
  {
   "cell_type": "code",
   "execution_count": null,
   "metadata": {},
   "outputs": [],
   "source": [
    "IT = studydf['InterventionType'].value_counts().reindex()"
   ]
  },
  {
   "cell_type": "code",
   "execution_count": null,
   "metadata": {},
   "outputs": [
    {
     "data": {
      "text/plain": [
       "Device                                                                 437\n",
       "Device|Device                                                          354\n",
       "Device|Device|Device                                                    72\n",
       "Device|Behavioral                                                       53\n",
       "Other|Other                                                             51\n",
       "                                                                      ... \n",
       "Other|Device|Other|Other                                                 1\n",
       "Behavioral|Diagnostic Test                                               1\n",
       "Procedure|Behavioral|Behavioral                                          1\n",
       "Drug|Device|Other                                                        1\n",
       "Procedure|Procedure|Drug|Drug|Drug|Drug|Drug|Biological|Other|Other      1\n",
       "Name: InterventionType, Length: 124, dtype: int64"
      ]
     },
     "execution_count": 114,
     "metadata": {},
     "output_type": "execute_result"
    }
   ],
   "source": [
    "IT"
   ]
  },
  {
   "cell_type": "code",
   "execution_count": null,
   "metadata": {},
   "outputs": [],
   "source": []
  }
 ],
 "metadata": {
  "interpreter": {
   "hash": "df62669469e0c829d1be92d7cbf744ae4e816a6cbdfe4831b5e613d3386bb9e2"
  },
  "kernelspec": {
   "display_name": "Python 3.10.4 ('da622')",
   "language": "python",
   "name": "python3"
  },
  "language_info": {
   "codemirror_mode": {
    "name": "ipython",
    "version": 3
   },
   "file_extension": ".py",
   "mimetype": "text/x-python",
   "name": "python",
   "nbconvert_exporter": "python",
   "pygments_lexer": "ipython3",
   "version": "3.10.4"
  },
  "orig_nbformat": 4
 },
 "nbformat": 4,
 "nbformat_minor": 2
}
