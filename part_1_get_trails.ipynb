{
  "cells": [
    {
      "cell_type": "markdown",
      "metadata": {
        "id": "Tid-wrNW11pW"
      },
      "source": [
        "# Load Depenency"
      ]
    },
    {
      "cell_type": "code",
      "execution_count": 40,
      "metadata": {
        "id": "ACtufjx41sXQ"
      },
      "outputs": [],
      "source": [
        "from os import system\n",
        "import pandas as pd\n",
        "import requests\n",
        "import datetime as dt\n",
        "# from pytrials.client import ClinicalTrials\n",
        "import json\n",
        "import ipywidgets as widgets\n",
        "import numpy as np\n",
        "np.random.seed(10031975)\n",
        "import matplotlib.pyplot as plt\n",
        "import numpy as np\n",
        "from matplotlib import rcParams, cycler\n",
        "import matplotlib.pyplot as plt\n",
        "from matplotlib.ticker import AutoMinorLocator\n",
        "# from openpyxl import Workbook\n",
        "import openpyxl"
      ]
    },
    {
      "cell_type": "markdown",
      "metadata": {},
      "source": [
        "does some error handling"
      ]
    },
    {
      "cell_type": "code",
      "execution_count": 41,
      "metadata": {},
      "outputs": [],
      "source": [
        "\n",
        "\n",
        "\n",
        "import sys\n",
        "import csv\n",
        "maxInt = sys.maxsize\n",
        "\n",
        "while True:\n",
        "    # decrease the maxInt value by factor 10 \n",
        "    # as long as the OverflowError occurs.\n",
        "\n",
        "    try:\n",
        "        csv.field_size_limit(maxInt)\n",
        "        break\n",
        "    except OverflowError:\n",
        "        maxInt = int(maxInt/10)"
      ]
    },
    {
      "cell_type": "code",
      "execution_count": 42,
      "metadata": {},
      "outputs": [],
      "source": [
        "from pytrials.utils import json_handler, csv_handler\n",
        "\n",
        "\n",
        "class ClinicalTrials:\n",
        "    \"\"\"ClinicalTrials API client\n",
        "\n",
        "    Provides functions to easily access the ClinicalTrials.gov API\n",
        "    (https://clinicaltrials.gov/api/)\n",
        "    in Python.\n",
        "\n",
        "    Attributes:\n",
        "        study_fields: List of all study fields you can use in your query.\n",
        "        api_info: Tuple containing the API version number and the last\n",
        "        time the database was updated.\n",
        "    \"\"\"\n",
        "\n",
        "    _BASE_URL = \"https://clinicaltrials.gov/api/\"\n",
        "    _INFO = \"info/\"\n",
        "    _QUERY = \"query/\"\n",
        "    _JSON = \"fmt=json\"\n",
        "    _CSV = \"fmt=csv\"\n",
        "\n",
        "    def __init__(self):\n",
        "        self.api_info = self.__api_info()\n",
        "\n",
        "    @property\n",
        "    def study_fields(self):\n",
        "        fields_list = json_handler(\n",
        "            f\"{self._BASE_URL}{self._INFO}study_fields_list?{self._JSON}\"\n",
        "        )\n",
        "        return fields_list[\"StudyFields\"][\"Fields\"]\n",
        "\n",
        "    def __api_info(self):\n",
        "        \"\"\"Returns information about the API\"\"\"\n",
        "        last_updated = json_handler(\n",
        "            f\"{self._BASE_URL}{self._INFO}data_vrs?{self._JSON}\"\n",
        "        )[\"DataVrs\"]\n",
        "        api_version = json_handler(f\"{self._BASE_URL}{self._INFO}api_vrs?{self._JSON}\")[\n",
        "            \"APIVrs\"\n",
        "        ]\n",
        "\n",
        "        return api_version, last_updated\n",
        "\n",
        "    def get_full_studies(self, search_expr, max_studies=50):\n",
        "        \"\"\"Returns all content for a maximum of 100 study records.\n",
        "\n",
        "        Retrieves information from the full studies endpoint, which gets all study fields.\n",
        "        This endpoint can only output JSON (Or not-supported XML) format and does not allow\n",
        "        requests for more than 100 studies at once.\n",
        "\n",
        "        Args:\n",
        "            search_expr (str): A string containing a search expression as specified by\n",
        "                `their documentation <https://clinicaltrials.gov/api/gui/ref/syntax#searchExpr>`_.\n",
        "            max_studies (int): An integer indicating the maximum number of studies to return.\n",
        "                Defaults to 50.\n",
        "\n",
        "        Returns:\n",
        "            dict: Object containing the information queried with the search expression.\n",
        "\n",
        "        Raises:\n",
        "            ValueError: The number of studies can only be between 1 and 100\n",
        "        \"\"\"\n",
        "        if max_studies > 100 or max_studies < 1:\n",
        "            raise ValueError(\"The number of studies can only be between 1 and 100\")\n",
        "\n",
        "        req = f\"full_studies?expr={search_expr}&max_rnk={max_studies}&{self._JSON}\"\n",
        "\n",
        "        full_studies = json_handler(f\"{self._BASE_URL}{self._QUERY}{req}\")\n",
        "\n",
        "        return full_studies\n",
        "\n",
        "    def get_study_fields(self, search_expr, fields, max_studies=50, min_rnk=1,fmt=\"csv\"):\n",
        "        \"\"\"Returns study content for specified fields\n",
        "\n",
        "        Retrieves information from the study fields endpoint, which acquires specified information\n",
        "        from a large (max 1000) studies. To see a list of all possible fields, check the class'\n",
        "        study_fields attribute.\n",
        "\n",
        "        Args:\n",
        "            search_expr (str): A string containing a search expression as specified by\n",
        "                `their documentation <https://clinicaltrials.gov/api/gui/ref/syntax#searchExpr>`_.\n",
        "            fields (list(str)): A list containing the desired information fields.\n",
        "            max_studies (int): An integer indicating the maximum number of studies to return.\n",
        "                Defaults to 50.\n",
        "            fmt (str): A string indicating the output format, csv or json. Defaults to csv.\n",
        "\n",
        "        Returns:\n",
        "            Either a dict, if fmt='json', or a list of records (e.g. a list of lists), if fmt='csv.\n",
        "            Both containing the maximum number of study fields queried using the specified search expression.\n",
        "\n",
        "        Raises:\n",
        "            ValueError: The number of studies can only be between 1 and 1000\n",
        "            ValueError: One of the fields is not valid! Check the study_fields attribute\n",
        "                for a list of valid ones.\n",
        "            ValueError: Format argument has to be either 'csv' or 'json'\n",
        "        \"\"\"\n",
        "        if max_studies > 1000 or max_studies < 1:\n",
        "            raise ValueError(\"The number of studies can only be between 1 and 1000\")\n",
        "        elif not set(fields).issubset(self.study_fields):\n",
        "            raise ValueError(\n",
        "                \"One of the fields is not valid! Check the study_fields attribute for a list of valid ones.\"\n",
        "            )\n",
        "        else:\n",
        "            concat_fields = \",\".join(fields)\n",
        "            # req = f\"study_fields?expr={search_expr}&max_rnk={max_studies}&fields={concat_fields}\"\n",
        "            req = f\"study_fields?expr={search_expr}&min_rnk={min_rnk}&max_rnk={max_studies+min_rnk-1}&fields={concat_fields}\"\n",
        "            if fmt == \"csv\":\n",
        "                url = f\"{self._BASE_URL}{self._QUERY}{req}&{self._CSV}\"\n",
        "                return csv_handler(url)\n",
        "\n",
        "            elif fmt == \"json\":\n",
        "                url = f\"{self._BASE_URL}{self._QUERY}{req}&{self._JSON}\"\n",
        "                return json_handler(url)\n",
        "\n",
        "            else:\n",
        "                raise ValueError(\"Format argument has to be either 'csv' or 'json'\")\n",
        "\n",
        "    def get_study_count(self, search_expr):\n",
        "        \"\"\"Returns study count for specified search expression\n",
        "\n",
        "        Retrieves the count of studies matching the text entered in search_expr.\n",
        "\n",
        "        Args:\n",
        "            search_expr (str): A string containing a search expression as specified by\n",
        "                `their documentation <https://clinicaltrials.gov/api/gui/ref/syntax#searchExpr>`_.\n",
        "\n",
        "        Returns:\n",
        "            An integer\n",
        "\n",
        "        Raises:\n",
        "            ValueError: The search expression cannot be blank.\n",
        "        \"\"\"\n",
        "        if not set(search_expr):\n",
        "            raise ValueError(\"The search expression cannot be blank.\")\n",
        "        else:\n",
        "            req = f\"study_fields?expr={search_expr}&max_rnk=1&fields=NCTId\"\n",
        "            url = f\"{self._BASE_URL}{self._QUERY}{req}&{self._JSON}\"\n",
        "            returned_data = json_handler(url)\n",
        "            study_count = returned_data[\"StudyFieldsResponse\"][\"NStudiesFound\"]\n",
        "            return study_count\n",
        "\n",
        "    def __repr__(self):\n",
        "        return f\"ClinicalTrials.gov client v{self.api_info[0]}, database last updated {self.api_info[1]}\""
      ]
    },
    {
      "cell_type": "markdown",
      "metadata": {
        "id": "0oKv5xQg2hgJ"
      },
      "source": [
        "# Load Data"
      ]
    },
    {
      "cell_type": "markdown",
      "metadata": {},
      "source": [
        "https://clinicaltrials.gov/api/gui/ref/crosswalks"
      ]
    },
    {
      "cell_type": "markdown",
      "metadata": {},
      "source": [
        "Disease 2 search for"
      ]
    },
    {
      "cell_type": "markdown",
      "metadata": {},
      "source": [
        "This is for dymanic input of diease searching"
      ]
    },
    {
      "cell_type": "code",
      "execution_count": 43,
      "metadata": {},
      "outputs": [],
      "source": [
        "# disease=input()\n",
        "# print(disease)"
      ]
    },
    {
      "cell_type": "code",
      "execution_count": 44,
      "metadata": {},
      "outputs": [],
      "source": [
        "disease = 'TMS'\n",
        "\n",
        "#disease = 'depression'\n",
        "\n",
        "# disease = 'diabetes'\n",
        "\n",
        "# disease = 'tacs'\n",
        "\n"
      ]
    },
    {
      "cell_type": "markdown",
      "metadata": {},
      "source": [
        "hit mesh some day"
      ]
    },
    {
      "cell_type": "markdown",
      "metadata": {},
      "source": [
        "Pull ONE"
      ]
    },
    {
      "cell_type": "markdown",
      "metadata": {
        "id": "h_DJC1iG4RSB"
      },
      "source": [
        "#Explore Data"
      ]
    },
    {
      "cell_type": "code",
      "execution_count": 45,
      "metadata": {},
      "outputs": [
        {
          "name": "stdout",
          "output_type": "stream",
          "text": [
            "2339\n"
          ]
        }
      ],
      "source": [
        "#change this out to NAME\n",
        "# from turtle import up\n",
        "\n",
        "\n",
        "# need to clean this up\n",
        "\n",
        "ct = ClinicalTrials()\n",
        "# infodf= (ct.get_full_studies(search_expr=disease, max_studies=5 ))\n",
        "# number = print(infodf['FullStudiesResponse']['NStudiesFound'])\n",
        "count = ct.get_study_count(search_expr=disease)\n",
        "print(count)\n",
        "\n"
      ]
    },
    {
      "cell_type": "code",
      "execution_count": null,
      "metadata": {},
      "outputs": [],
      "source": []
    },
    {
      "cell_type": "code",
      "execution_count": null,
      "metadata": {},
      "outputs": [],
      "source": [
        "\n"
      ]
    },
    {
      "cell_type": "code",
      "execution_count": 46,
      "metadata": {},
      "outputs": [
        {
          "name": "stdout",
          "output_type": "stream",
          "text": [
            "1-800 of 2339\n",
            "801-1600 of 2339\n",
            "1601-2400 of 2339\n"
          ]
        }
      ],
      "source": [
        "# count = 3000\n",
        "start = 0\n",
        "end = count\n",
        "iter = 800 #number of studies to get at a time ( limited to 1000 )\n",
        "\n",
        "\n",
        "\n",
        "\n",
        "\n",
        "temp = pd.DataFrame()\n",
        "\n",
        "temp2 = pd.DataFrame()\n",
        "new_df = pd.DataFrame()\n",
        "\n",
        "\n",
        "for i in range(1, count, iter):\n",
        "    # print(temp)\n",
        "    temp = ct.get_study_fields(\n",
        "        search_expr=disease,\n",
        "        # you can pick from here\n",
        "        # https://www.clinicaltrials.gov/api/info/study_fields_list\n",
        "        fields=[\"NCTId\", \"Condition\", \"OfficialTitle\", \"BriefTitle\" , \"Acronym\" , \"StudyType\", \"InterventionType\",\"InterventionName\",\"InterventionOtherName\",\"InterventionDescription\",\"Phase\",\"StudyFirstSubmitDate\",\"LastUpdateSubmitDate\",\"CompletionDate\",\"OverallStatus\",\"BriefSummary\",\"IsFDARegulatedDrug\",\"IsFDARegulatedDevice\"],\n",
        "        max_studies=iter,\n",
        "        min_rnk=i,\n",
        "        fmt=\"csv\",)\n",
        "    # print(temp2[0])\n",
        "    iter2 = iter + (i-1)\n",
        "    print(str(i) + \"-\" + str(iter2) + \" of \" + str(count))\n",
        "    temp2 =  pd.DataFrame.from_records(temp[1:])\n",
        "    new_df = pd.concat([new_df, temp2])\n",
        " \n"
      ]
    },
    {
      "cell_type": "code",
      "execution_count": 47,
      "metadata": {},
      "outputs": [],
      "source": [
        "new_df.columns = [\"Index\",\"NCTId\", \"Condition\", \"OfficialTitle\", \"BriefTitle\" , \"Acronym\" , \"StudyType\",\n",
        "    \"InterventionType\",\"InterventionName\",\"InterventionOtherName\",\"InterventionDescription\",\"Phase\" ,\"StudyFirstSubmitDate\",\"LastUpdateSubmitDate\",\"CompletionDate\",\"OverallStatus\",\"BriefSummary\",\"IsFDARegulatedDrug\",\"IsFDARegulatedDevice\"]"
      ]
    },
    {
      "cell_type": "markdown",
      "metadata": {},
      "source": []
    },
    {
      "cell_type": "code",
      "execution_count": 48,
      "metadata": {},
      "outputs": [
        {
          "data": {
            "text/plain": [
              "(2339, 19)"
            ]
          },
          "execution_count": 48,
          "metadata": {},
          "output_type": "execute_result"
        }
      ],
      "source": [
        "# new_df\n",
        "new_df.shape"
      ]
    },
    {
      "cell_type": "code",
      "execution_count": null,
      "metadata": {},
      "outputs": [],
      "source": [
        "# new_df.to_excel(disease+'-a'+'.xlsx',  engine='openpyxl', index = False)"
      ]
    },
    {
      "cell_type": "code",
      "execution_count": 49,
      "metadata": {},
      "outputs": [
        {
          "data": {
            "text/plain": [
              "<bound method NDFrame.head of     Index        NCTId                                      Condition  \\\n",
              "0       1  NCT01842542                         Depression, Postpartum   \n",
              "1       2  NCT03243214  Parkinson's Disease|Mild Cognitive Impairment   \n",
              "2       3  NCT00523302                  Major Depression|Fibromyalgia   \n",
              "3       4  NCT01492309                      Major Depressive Disorder   \n",
              "4       5  NCT02867670                                 Stroke|Aphasia   \n",
              "..    ...          ...                                            ...   \n",
              "734  2335  NCT04985864                                         Stroke   \n",
              "735  2336  NCT05275114                                         Stroke   \n",
              "736  2337  NCT04285060                          Stroke|Chronic Stroke   \n",
              "737  2338  NCT05323344                            Conversion Disorder   \n",
              "738  2339  NCT03789409           Ischemic Stroke|Intermittent Fasting   \n",
              "\n",
              "                                         OfficialTitle  \\\n",
              "0    An Open-Label Study to Evaluate the Efficacy a...   \n",
              "1    Effect of Excitatory Theta-Burst Transcranial ...   \n",
              "2    A Pilot Study of Transcranial Magnetic Stimula...   \n",
              "3    Transcranial Magnetic Stimulation (TMS) in Pre...   \n",
              "4        TMS as a Biological Marker of Neuroplasticity   \n",
              "..                                                 ...   \n",
              "734  A Study on Effect of Simultaneous Application ...   \n",
              "735  Improvement Effect of Transcranial Direct Curr...   \n",
              "736  Safety and Efficacy on Functional Mobility Fol...   \n",
              "737  Metacognitive Therapy and Neuro-physiotherapy ...   \n",
              "738  Intermittent Fasting Following Acute Ischemic ...   \n",
              "\n",
              "                                            BriefTitle     Acronym  \\\n",
              "0    Efficacy and Safety Study of NeuroStar TMS The...               \n",
              "1    Effect of Transcranial Magnetic Stimulation on...  PD-MCI-TMS   \n",
              "2    A Pilot Study of TMS Effects on Pain and Depre...         TMS   \n",
              "3    Beat the Blues in Pregnancy Study - Transcrani...         TMS   \n",
              "4        TMS as a Biological Marker of Neuroplasticity               \n",
              "..                                                 ...         ...   \n",
              "734  A Study on Effect of Simultaneous Application ...               \n",
              "735  Improvement Effect of Transcranial Direct Curr...               \n",
              "736  Safety and Efficacy of Samsung GEMS-H Device T...               \n",
              "737  Metacognitive Therapy and Neuro-physiotherapy ...   ReMAP-FMD   \n",
              "738  Intermittent Fasting Following Acute Ischemic ...               \n",
              "\n",
              "          StudyType    InterventionType  \\\n",
              "0    Interventional              Device   \n",
              "1    Interventional       Device|Device   \n",
              "2    Interventional       Device|Device   \n",
              "3    Interventional       Device|Device   \n",
              "4     Observational              Device   \n",
              "..              ...                 ...   \n",
              "734  Interventional       Device|Device   \n",
              "735  Interventional       Device|Device   \n",
              "736  Interventional              Device   \n",
              "737  Interventional         Other|Other   \n",
              "738  Interventional  Dietary Supplement   \n",
              "\n",
              "                                      InterventionName  \\\n",
              "0    NeuroStar Transcranial Magnetic Stimulation (TMS)   \n",
              "1                                         TMS|Sham-TMS   \n",
              "2                                  Active TMS|Sham TMS   \n",
              "3    Active Transcranial Magnetic Simulation|Sham T...   \n",
              "4                    Transcranial Magnetic Stimulation   \n",
              "..                                                 ...   \n",
              "734          Brain stimulation|Treadmill gait training   \n",
              "735  tDCS stimulation with hand task|sham tDCS stim...   \n",
              "736                                     Samsung GEMS-H   \n",
              "737  Neuro-physiotherapy|Combination of metacogniti...   \n",
              "738                               Intermittent Fasting   \n",
              "\n",
              "                                InterventionOtherName  \\\n",
              "0                     NeuroStar TMS Therapy Treatment   \n",
              "1                                             Magstim   \n",
              "2     Neotonus model 2100 xxx|Neotonus model 2100 xxx   \n",
              "3    Neuronetics 2100 CRS TMS System|The eSham System   \n",
              "4                                                 TMS   \n",
              "..                                                ...   \n",
              "734                                                     \n",
              "735                                                     \n",
              "736                                                     \n",
              "737                                                     \n",
              "738                                                     \n",
              "\n",
              "                               InterventionDescription           Phase  \\\n",
              "0    Acute phase: 120% of observed MT, 10 pulses pe...  Not Applicable   \n",
              "1    Real or Sham TMS will be given to the PD-MCI p...  Not Applicable   \n",
              "2    Active TMS uses the active TMS coil to stimula...  Not Applicable   \n",
              "3    Subjects will be given active TMS 5 days per w...  Not Applicable   \n",
              "4    TMS is a form of non-invasive brain stimulatio...                   \n",
              "..                                                 ...             ...   \n",
              "734  tDCS brain stimulation on leg motor areas was ...  Not Applicable   \n",
              "735  30 minutes of intervention including tDCS stim...  Not Applicable   \n",
              "736  Subjects will participate in 18 sessions of tr...  Not Applicable   \n",
              "737  Neuro-Physiotherapy will be done in Interventi...  Not Applicable   \n",
              "738  The aforementioned intermittent fasting in arm...  Not Applicable   \n",
              "\n",
              "    StudyFirstSubmitDate LastUpdateSubmitDate     CompletionDate  \\\n",
              "0         April 19, 2013      October 5, 2021        August 2015   \n",
              "1         August 2, 2017     October 15, 2020  February 14, 2020   \n",
              "2        August 30, 2007        June 12, 2018      November 2009   \n",
              "3       December 3, 2011       March 14, 2018       January 2017   \n",
              "4           June 3, 2016         July 7, 2020          June 2020   \n",
              "..                   ...                  ...                ...   \n",
              "734        July 19, 2021        July 27, 2021      July 31, 2023   \n",
              "735        March 1, 2022        March 9, 2022      March 1, 2023   \n",
              "736    February 24, 2020   September 24, 2021      December 2021   \n",
              "737       March 21, 2022         May 17, 2022           May 2025   \n",
              "738    December 20, 2018    December 15, 2019   January 31, 2021   \n",
              "\n",
              "          OverallStatus                                       BriefSummary  \\\n",
              "0            Terminated  The purpose of this study is to evaluate the s...   \n",
              "1             Completed  Parkinson's disease (PD) affects more than 100...   \n",
              "2             Completed  In this pilot study, the PI proposes to includ...   \n",
              "3             Completed  The purpose of this study is to determine if r...   \n",
              "4             Completed  TMS is a non-invasive brain stimulation techni...   \n",
              "..                  ...                                                ...   \n",
              "734  Not yet recruiting  The purpose of this study was to investigate t...   \n",
              "735  Not yet recruiting  The purpose of this study was to improve the e...   \n",
              "736          Recruiting  A single-site, interventional, single-arm tria...   \n",
              "737          Recruiting  Patients with functional movement disorders (F...   \n",
              "738      Unknown status  Despite numerous kinds of evidence on function...   \n",
              "\n",
              "    IsFDARegulatedDrug IsFDARegulatedDevice  \n",
              "0                   No                  Yes  \n",
              "1                   No                   No  \n",
              "2                   No                  Yes  \n",
              "3                                       Yes  \n",
              "4                                            \n",
              "..                 ...                  ...  \n",
              "734                 No                   No  \n",
              "735                 No                   No  \n",
              "736                 No                  Yes  \n",
              "737                 No                   No  \n",
              "738                 No                   No  \n",
              "\n",
              "[2339 rows x 19 columns]>"
            ]
          },
          "execution_count": 49,
          "metadata": {},
          "output_type": "execute_result"
        }
      ],
      "source": [
        "new_df.head"
      ]
    },
    {
      "cell_type": "markdown",
      "metadata": {},
      "source": [
        "Ok - so the reason for 2 pulls is because for some reason if I request more than ~20 columns the API has an issue\n"
      ]
    },
    {
      "cell_type": "code",
      "execution_count": 50,
      "metadata": {},
      "outputs": [
        {
          "name": "stdout",
          "output_type": "stream",
          "text": [
            "1-400 of 2339\n",
            "401-800 of 2339\n",
            "801-1200 of 2339\n",
            "1201-1600 of 2339\n",
            "1601-2000 of 2339\n",
            "2001-2400 of 2339\n"
          ]
        }
      ],
      "source": [
        "# count = 3000\n",
        "start = 0\n",
        "end = count\n",
        "iter = 400 #number of studies to get at a time ( limited to 1000 )\n",
        "\n",
        "from random import seed\n",
        "from random import random\n",
        "\n",
        "\n",
        "\n",
        "temp = pd.DataFrame()\n",
        "temp2 = pd.DataFrame()\n",
        "new_df2 = pd.DataFrame()\n",
        "\n",
        "\n",
        "for i in range(1, count, iter):\n",
        "    # print(temp)\n",
        "    temp = ct.get_study_fields(\n",
        "        search_expr=disease,\n",
        "        fields=[\"NCTId\", \"ConditionMeshTerm\",\"PrimaryOutcomeDescription\", \"SecondaryOutcomeDescription\", \"EnrollmentCount\",\"EnrollmentType\",\"BaselineCategoryTitle\",\"BaselinePopulationDescription\",\"BaselineTypeUnitsAnalyzed\",\n",
        "\"OtherOutcomeDescription\",\"EligibilityCriteria\",\"StudyPopulation\",\"HealthyVolunteers\", \"ReferencePMID\", \"LocationCity\", \"LocationState\" , \"LocationFacility\"],\n",
        "        max_studies=iter,\n",
        "        min_rnk=i,\n",
        "        fmt=\"csv\",)\n",
        "    # print(temp2[0])\n",
        "    iter2 = iter + (i-1)\n",
        "    print(str(i) + \"-\" + str(iter2) + \" of \" + str(count))\n",
        "    temp2 =  pd.DataFrame.from_records(temp[1:])\n",
        "    new_df2 = pd.concat([new_df2, temp2])\n",
        " \n"
      ]
    },
    {
      "cell_type": "code",
      "execution_count": 51,
      "metadata": {},
      "outputs": [],
      "source": [
        "new_df2.columns = [\"index\", \"NCTId\", \"ConditionMeshTerm\",\"PrimaryOutcomeDescription\", \"SecondaryOutcomeDescription\", \"EnrollmentCount\",\"EnrollmentType\",\"BaselineCategoryTitle\",\"BaselinePopulationDescription\",\"BaselineTypeUnitsAnalyzed\",\n",
        "\"OtherOutcomeDescription\",\"EligibilityCriteria\",\"StudyPopulation\",\"HealthyVolunteers\", \"ReferencePMID\", \"LocationCity\", \"LocationState\" , \"LocationFacility\"]"
      ]
    },
    {
      "cell_type": "code",
      "execution_count": 52,
      "metadata": {},
      "outputs": [
        {
          "data": {
            "text/plain": [
              "(2339, 18)"
            ]
          },
          "execution_count": 52,
          "metadata": {},
          "output_type": "execute_result"
        }
      ],
      "source": [
        "new_df2.shape"
      ]
    },
    {
      "cell_type": "markdown",
      "metadata": {
        "id": "DQ1K9Cgd4xOC"
      },
      "source": [
        "##cleaning"
      ]
    },
    {
      "cell_type": "markdown",
      "metadata": {},
      "source": [
        "used to save both dataframes - but it is kinda of a pain to have to both on the file system, so just going to save after merge"
      ]
    },
    {
      "cell_type": "code",
      "execution_count": null,
      "metadata": {},
      "outputs": [],
      "source": [
        "# new_df.to_excel(disease+'-b'+'.xlsx',  engine='openpyxl', index = False)"
      ]
    },
    {
      "cell_type": "code",
      "execution_count": null,
      "metadata": {},
      "outputs": [],
      "source": [
        "# print(type(df1))"
      ]
    },
    {
      "cell_type": "markdown",
      "metadata": {},
      "source": []
    },
    {
      "cell_type": "code",
      "execution_count": 53,
      "metadata": {
        "id": "EF7TnjRu4X9G"
      },
      "outputs": [],
      "source": [
        "result = pd.merge(new_df, new_df2,  on='NCTId', how='left')"
      ]
    },
    {
      "cell_type": "code",
      "execution_count": 39,
      "metadata": {},
      "outputs": [
        {
          "data": {
            "text/plain": [
              "(2339, 35)"
            ]
          },
          "execution_count": 39,
          "metadata": {},
          "output_type": "execute_result"
        }
      ],
      "source": [
        "result.shape"
      ]
    },
    {
      "cell_type": "markdown",
      "metadata": {},
      "source": [
        "IMPORTANT - this just drops the second index column - monitor or watch for mismatch or if you change the number of elements that are pulled from the first api"
      ]
    },
    {
      "cell_type": "code",
      "execution_count": 66,
      "metadata": {},
      "outputs": [
        {
          "name": "stdout",
          "output_type": "stream",
          "text": [
            "0 Index\n",
            "1 NCTId\n",
            "2 Condition\n",
            "3 OfficialTitle\n",
            "4 BriefTitle\n",
            "5 Acronym\n",
            "6 StudyType\n",
            "7 InterventionType\n",
            "8 InterventionName\n",
            "9 InterventionOtherName\n",
            "10 InterventionDescription\n",
            "11 Phase\n",
            "12 StudyFirstSubmitDate\n",
            "13 LastUpdateSubmitDate\n",
            "14 CompletionDate\n",
            "15 OverallStatus\n",
            "16 BriefSummary\n",
            "17 IsFDARegulatedDrug\n",
            "18 IsFDARegulatedDevice\n",
            "19 ConditionMeshTerm\n",
            "20 PrimaryOutcomeDescription\n",
            "21 SecondaryOutcomeDescription\n",
            "22 EnrollmentCount\n",
            "23 EnrollmentType\n",
            "24 BaselineCategoryTitle\n",
            "25 BaselinePopulationDescription\n",
            "26 BaselineTypeUnitsAnalyzed\n",
            "27 OtherOutcomeDescription\n",
            "28 EligibilityCriteria\n",
            "29 StudyPopulation\n",
            "30 HealthyVolunteers\n",
            "31 ReferencePMID\n",
            "32 LocationCity\n",
            "33 LocationState\n",
            "34 LocationFacility\n"
          ]
        }
      ],
      "source": [
        "# result.head()\n",
        "i=-1\n",
        "for col in result.columns:\n",
        "   i=i+1\n",
        "   print(i, col)"
      ]
    },
    {
      "cell_type": "code",
      "execution_count": 65,
      "metadata": {},
      "outputs": [],
      "source": [
        "result = result.drop(result.columns[[19]], axis=1)"
      ]
    },
    {
      "cell_type": "code",
      "execution_count": 67,
      "metadata": {
        "id": "phxa_Vqn5E5S"
      },
      "outputs": [
        {
          "data": {
            "text/plain": [
              "(2339, 35)"
            ]
          },
          "execution_count": 67,
          "metadata": {},
          "output_type": "execute_result"
        }
      ],
      "source": [
        "# result.shape"
      ]
    },
    {
      "cell_type": "markdown",
      "metadata": {},
      "source": [
        "Save file"
      ]
    },
    {
      "cell_type": "code",
      "execution_count": null,
      "metadata": {},
      "outputs": [],
      "source": [
        "# writer = pd.ExcelWriter('test.xlsx')\n",
        "# # write dataframe to excel\n",
        "# result.to_excel(writer)\n",
        "# # save the excel\n",
        "# writer.save()\n",
        "# print('DataFrame is written successfully to Excel File.')"
      ]
    },
    {
      "cell_type": "code",
      "execution_count": null,
      "metadata": {},
      "outputs": [],
      "source": [
        "result"
      ]
    },
    {
      "cell_type": "code",
      "execution_count": null,
      "metadata": {
        "id": "Dgre9uB-INsI"
      },
      "outputs": [],
      "source": [
        "# This simple method provide erros when open in excel because of the data from the API. I have to clean it up and then I will post the code.\n",
        "\n",
        "# result.to_excel(disease+'_data_merged.xlsx',  engine='openpyxl', index = False)\n",
        "\n"
      ]
    },
    {
      "cell_type": "code",
      "execution_count": 68,
      "metadata": {},
      "outputs": [
        {
          "name": "stderr",
          "output_type": "stream",
          "text": [
            "/var/folders/7x/knvg10qn19740t2kqn0qwy_40000gn/T/ipykernel_37001/2751844424.py:8: FutureWarning: Use of **kwargs is deprecated, use engine_kwargs instead.\n",
            "  writer = pd.ExcelWriter((disease+'_Data.xlsx'),engine='xlsxwriter',options=options)\n"
          ]
        }
      ],
      "source": [
        "# from lib2to3.pytree import _Results\n",
        "\n",
        "import xlsxwriter\n",
        "\n",
        "options = {}\n",
        "options['strings_to_formulas'] = False\n",
        "options['strings_to_urls'] = False\n",
        "writer = pd.ExcelWriter((disease+'_starting_Data.xlsx'),engine='xlsxwriter',options=options)\n",
        "result.to_excel(writer, 'Sheet_A', index=False)\n",
        "writer.save()"
      ]
    },
    {
      "cell_type": "code",
      "execution_count": null,
      "metadata": {},
      "outputs": [],
      "source": [
        "# result.to_excel(disease+'_data_merged.xlsx',sheet_name='Sheet1',  engine='openpyxl', index = False)"
      ]
    },
    {
      "cell_type": "code",
      "execution_count": null,
      "metadata": {},
      "outputs": [],
      "source": [
        "#backup because csv works with strange characters\n",
        "\n",
        "result.to_csv(disease+'_starting_data.csv', index = False)"
      ]
    },
    {
      "cell_type": "code",
      "execution_count": null,
      "metadata": {},
      "outputs": [],
      "source": [
        "# result.to_hdf('data_raw.h5', key='df', mode='w')  "
      ]
    },
    {
      "cell_type": "code",
      "execution_count": null,
      "metadata": {},
      "outputs": [],
      "source": []
    }
  ],
  "metadata": {
    "colab": {
      "collapsed_sections": [],
      "name": "HW2.ipynb",
      "provenance": []
    },
    "kernelspec": {
      "display_name": "Python 3.10.4 ('da622')",
      "language": "python",
      "name": "python3"
    },
    "language_info": {
      "codemirror_mode": {
        "name": "ipython",
        "version": 3
      },
      "file_extension": ".py",
      "mimetype": "text/x-python",
      "name": "python",
      "nbconvert_exporter": "python",
      "pygments_lexer": "ipython3",
      "version": "3.10.4"
    },
    "vscode": {
      "interpreter": {
        "hash": "df62669469e0c829d1be92d7cbf744ae4e816a6cbdfe4831b5e613d3386bb9e2"
      }
    }
  },
  "nbformat": 4,
  "nbformat_minor": 0
}
