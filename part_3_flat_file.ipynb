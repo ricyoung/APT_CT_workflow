{
 "cells": [
  {
   "cell_type": "code",
   "execution_count": 1,
   "metadata": {},
   "outputs": [],
   "source": [
    "disease = 'tdcs'"
   ]
  },
  {
   "cell_type": "code",
   "execution_count": 2,
   "metadata": {},
   "outputs": [],
   "source": [
    "from os import system\n",
    "import pandas as pd\n",
    "import requests\n",
    "import datetime as dt\n",
    "# from pytrials.client import ClinicalTrials\n",
    "import json\n",
    "import ipywidgets as widgets\n",
    "import numpy as np\n",
    "np.random.seed(10031975)\n",
    "import matplotlib.pyplot as plt\n",
    "import numpy as np\n",
    "from matplotlib import rcParams, cycler\n",
    "import matplotlib.pyplot as plt\n",
    "from matplotlib.ticker import AutoMinorLocator\n",
    "# from openpyxl import Workbook\n",
    "import openpyxl"
   ]
  },
  {
   "cell_type": "code",
   "execution_count": 3,
   "metadata": {},
   "outputs": [],
   "source": [
    "clean2 = pd.read_csv('2-'+disease+'_cleaned_use_me.csv')"
   ]
  },
  {
   "cell_type": "code",
   "execution_count": 4,
   "metadata": {},
   "outputs": [],
   "source": [
    "baseline = pd.read_csv('baseline_measurements.txt', sep='|', low_memory=False\n",
    "# index_col=False,  \n",
    "    # dtype={\"param_value\": int, \"dispersion_value\": str}  \n",
    "    )\n",
    "                #  names=['protocol', 'server', 'type', 'value'])"
   ]
  },
  {
   "cell_type": "markdown",
   "metadata": {},
   "source": [
    "10 - 10 param_value\n",
    "13- 13 dispersion_value"
   ]
  },
  {
   "cell_type": "code",
   "execution_count": 5,
   "metadata": {},
   "outputs": [
    {
     "name": "stdout",
     "output_type": "stream",
     "text": [
      "0 id\n",
      "1 nct_id\n",
      "2 result_group_id\n",
      "3 ctgov_group_code\n",
      "4 classification\n",
      "5 category\n",
      "6 title\n",
      "7 description\n",
      "8 units\n",
      "9 param_type\n",
      "10 param_value\n",
      "11 param_value_num\n",
      "12 dispersion_type\n",
      "13 dispersion_value\n",
      "14 dispersion_value_num\n",
      "15 dispersion_lower_limit\n",
      "16 dispersion_upper_limit\n",
      "17 explanation_of_na\n"
     ]
    }
   ],
   "source": [
    "# result.head()\n",
    "i=-1\n",
    "for col in baseline.columns:\n",
    "   i=i+1\n",
    "   print(i, col)"
   ]
  },
  {
   "cell_type": "code",
   "execution_count": 6,
   "metadata": {},
   "outputs": [
    {
     "name": "stdout",
     "output_type": "stream",
     "text": [
      "<class 'pandas.core.frame.DataFrame'>\n",
      "RangeIndex: 1753923 entries, 0 to 1753922\n",
      "Data columns (total 18 columns):\n",
      " #   Column                  Dtype  \n",
      "---  ------                  -----  \n",
      " 0   id                      int64  \n",
      " 1   nct_id                  object \n",
      " 2   result_group_id         int64  \n",
      " 3   ctgov_group_code        object \n",
      " 4   classification          object \n",
      " 5   category                object \n",
      " 6   title                   object \n",
      " 7   description             object \n",
      " 8   units                   object \n",
      " 9   param_type              object \n",
      " 10  param_value             object \n",
      " 11  param_value_num         float64\n",
      " 12  dispersion_type         object \n",
      " 13  dispersion_value        object \n",
      " 14  dispersion_value_num    float64\n",
      " 15  dispersion_lower_limit  float64\n",
      " 16  dispersion_upper_limit  float64\n",
      " 17  explanation_of_na       object \n",
      "dtypes: float64(4), int64(2), object(12)\n",
      "memory usage: 240.9+ MB\n"
     ]
    }
   ],
   "source": [
    "baseline.info()"
   ]
  },
  {
   "cell_type": "code",
   "execution_count": 7,
   "metadata": {},
   "outputs": [],
   "source": [
    "baseline.rename(columns = {'nct_id':'NCTId'}, inplace = True)\n",
    "baseline = baseline.drop('id', axis=1)\n",
    "baseline = baseline.drop('explanation_of_na', axis=1)\n",
    "#used for stats - we don't need it\n",
    "baseline = baseline.drop('dispersion_type', axis=1)\n",
    "baseline = baseline.drop('dispersion_value', axis=1)\n",
    "baseline = baseline.drop('dispersion_value_num', axis=1)\n",
    "baseline = baseline.drop('dispersion_lower_limit', axis=1)\n",
    "baseline = baseline.drop('dispersion_upper_limit', axis=1)\n",
    "# baseline = baseline.drop('dispersion_value', axis=1)"
   ]
  },
  {
   "cell_type": "markdown",
   "metadata": {},
   "source": [
    "classification is important \n",
    "category is important\n",
    "Title is important (first search on this )\n"
   ]
  },
  {
   "cell_type": "code",
   "execution_count": null,
   "metadata": {},
   "outputs": [],
   "source": []
  },
  {
   "cell_type": "code",
   "execution_count": 8,
   "metadata": {},
   "outputs": [
    {
     "data": {
      "text/plain": [
       "(1753923, 11)"
      ]
     },
     "execution_count": 8,
     "metadata": {},
     "output_type": "execute_result"
    }
   ],
   "source": [
    "baseline.head()\n",
    "baseline.shape"
   ]
  },
  {
   "cell_type": "code",
   "execution_count": 9,
   "metadata": {},
   "outputs": [
    {
     "data": {
      "text/plain": [
       "NCTId                object\n",
       "result_group_id       int64\n",
       "ctgov_group_code     object\n",
       "classification       object\n",
       "category             object\n",
       "title                object\n",
       "description          object\n",
       "units                object\n",
       "param_type           object\n",
       "param_value          object\n",
       "param_value_num     float64\n",
       "dtype: object"
      ]
     },
     "execution_count": 9,
     "metadata": {},
     "output_type": "execute_result"
    }
   ],
   "source": [
    "baseline.dtypes"
   ]
  },
  {
   "cell_type": "code",
   "execution_count": 10,
   "metadata": {},
   "outputs": [],
   "source": [
    "baseline[[\"param_value\", \"param_value_num\"]] = baseline[[\"param_value\", \"param_value_num\"]].apply(pd.to_numeric, errors='coerce') "
   ]
  },
  {
   "cell_type": "code",
   "execution_count": 11,
   "metadata": {},
   "outputs": [],
   "source": [
    "# a = baseline['dispersion_type'].unique()\n",
    "# print((a))\n"
   ]
  },
  {
   "cell_type": "code",
   "execution_count": 12,
   "metadata": {},
   "outputs": [],
   "source": [
    "# clean2.shape\n",
    "# clean2.head()"
   ]
  },
  {
   "cell_type": "code",
   "execution_count": 13,
   "metadata": {},
   "outputs": [],
   "source": [
    "# baseline.shape\n",
    "# baseline.head()"
   ]
  },
  {
   "cell_type": "code",
   "execution_count": null,
   "metadata": {},
   "outputs": [],
   "source": []
  },
  {
   "cell_type": "code",
   "execution_count": 14,
   "metadata": {},
   "outputs": [],
   "source": [
    "result = pd.merge(clean2, baseline,  on='NCTId', how='left')"
   ]
  },
  {
   "cell_type": "code",
   "execution_count": 15,
   "metadata": {},
   "outputs": [
    {
     "data": {
      "text/plain": [
       "(5047, 47)"
      ]
     },
     "execution_count": 15,
     "metadata": {},
     "output_type": "execute_result"
    }
   ],
   "source": [
    "result.shape"
   ]
  },
  {
   "cell_type": "code",
   "execution_count": 16,
   "metadata": {},
   "outputs": [],
   "source": [
    "result.to_csv('3-'+disease+'_results.csv', index = False)"
   ]
  },
  {
   "cell_type": "code",
   "execution_count": null,
   "metadata": {},
   "outputs": [],
   "source": []
  }
 ],
 "metadata": {
  "kernelspec": {
   "display_name": "Python 3.10.4 ('da622')",
   "language": "python",
   "name": "python3"
  },
  "language_info": {
   "codemirror_mode": {
    "name": "ipython",
    "version": 3
   },
   "file_extension": ".py",
   "mimetype": "text/x-python",
   "name": "python",
   "nbconvert_exporter": "python",
   "pygments_lexer": "ipython3",
   "version": "3.10.4"
  },
  "orig_nbformat": 4,
  "vscode": {
   "interpreter": {
    "hash": "df62669469e0c829d1be92d7cbf744ae4e816a6cbdfe4831b5e613d3386bb9e2"
   }
  }
 },
 "nbformat": 4,
 "nbformat_minor": 2
}
